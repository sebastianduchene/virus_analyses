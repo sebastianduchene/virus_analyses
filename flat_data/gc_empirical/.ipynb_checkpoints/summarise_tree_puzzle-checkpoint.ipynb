{
 "metadata": {
  "name": "",
  "signature": "sha256:23eb2c14df806c6e2cf235edbaf5735da8b0c331992417bc902dceb8f51e61c1"
 },
 "nbformat": 3,
 "nbformat_minor": 0,
 "worksheets": [
  {
   "cells": [
    {
     "cell_type": "code",
     "collapsed": false,
     "input": [
      "import pandas as pd, numpy as np\n",
      "import re, sys, os"
     ],
     "language": "python",
     "metadata": {},
     "outputs": [],
     "prompt_number": 1
    },
    {
     "cell_type": "code",
     "collapsed": false,
     "input": [
      "puzzle_files = [i for i in os.listdir('.') if '_puzzle' in i]\n",
      "print puzzle_files"
     ],
     "language": "python",
     "metadata": {},
     "outputs": [
      {
       "output_type": "stream",
       "stream": "stdout",
       "text": [
        "['Heinze_aa_puzzle', 'Heinze_nt_puzzle', 'Moureau_aa_puzzle', 'Moureau_nt_puzzle', 'Petterson_aa_puzzle', 'Petterson_nt_puzzle', 'summarise_tree_puzzle.ipynb']\n"
       ]
      }
     ],
     "prompt_number": 2
    },
    {
     "cell_type": "code",
     "collapsed": false,
     "input": [
      "puzzle_table = pd.DataFrame(np.empty(shape = (3, 2)))\n",
      "puzzle_table.columns = ['Pass_seq_nt', 'Pass_seq_aa']\n",
      "puzzle_table.index = ['Heinze', 'Moureau', 'Pettersson']"
     ],
     "language": "python",
     "metadata": {},
     "outputs": [],
     "prompt_number": 3
    },
    {
     "cell_type": "code",
     "collapsed": false,
     "input": [
      "#function get_chi_results\n",
      "def get_chi_results(f_file):\n",
      "    raw_lines = open(f_file, 'r').readlines()\n",
      "    t_init = [i for i in range(len(raw_lines)) if 'SEQUENCE COMPOSITION' in raw_lines[i]][0]\n",
      "    t_end = [e for e in range(len(raw_lines)) if 'The chi-square test' in raw_lines[e]][0]\n",
      "    chisq_data = raw_lines[t_init+3:t_end-2]\n",
      "    sequence_output = []\n",
      "    for i in chisq_data:\n",
      "        split_line = re.split('  +', i)\n",
      "        sequence_output.append([split_line[0], split_line[1]])\n",
      "    \n",
      "    n_sequences = len(sequence_output)\n",
      "    pass_sequences = sum(['passed' in i for i in sequence_output])\n",
      "    percentage_pass = float(pass_sequences) / n_sequences\n",
      "\n",
      "    return percentage_pass"
     ],
     "language": "python",
     "metadata": {},
     "outputs": [],
     "prompt_number": 4
    },
    {
     "cell_type": "code",
     "collapsed": false,
     "input": [
      "puzzle_table.ix['Heinze', 'Pass_seq_nt'] = get_chi_results('Heinze_nt_puzzle')\n",
      "puzzle_table.ix['Heinze', 'Pass_seq_aa'] = get_chi_results('Heinze_aa_puzzle')\n",
      "\n",
      "puzzle_table.ix['Moureau', 'Pass_seq_nt'] = get_chi_results('Moureau_nt_puzzle')\n",
      "puzzle_table.ix['Moureau', 'Pass_seq_aa'] = get_chi_results('Moureau_aa_puzzle')\n",
      "\n",
      "puzzle_table.ix['Pettersson', 'Pass_seq_nt'] = get_chi_results('Petterson_nt_puzzle')\n",
      "puzzle_table.ix['Pettersson', 'Pass_seq_aa'] = get_chi_results('Petterson_aa_puzzle')\n",
      "\n",
      "puzzle_table"
     ],
     "language": "python",
     "metadata": {},
     "outputs": [
      {
       "html": [
        "<div style=\"max-height:1000px;max-width:1500px;overflow:auto;\">\n",
        "<table border=\"1\" class=\"dataframe\">\n",
        "  <thead>\n",
        "    <tr style=\"text-align: right;\">\n",
        "      <th></th>\n",
        "      <th>Pass_seq_nt</th>\n",
        "      <th>Pass_seq_aa</th>\n",
        "    </tr>\n",
        "  </thead>\n",
        "  <tbody>\n",
        "    <tr>\n",
        "      <th>Heinze</th>\n",
        "      <td>0.929825</td>\n",
        "      <td>0.982456</td>\n",
        "    </tr>\n",
        "    <tr>\n",
        "      <th>Moureau</th>\n",
        "      <td>0.232323</td>\n",
        "      <td>0.868687</td>\n",
        "    </tr>\n",
        "    <tr>\n",
        "      <th>Pettersson</th>\n",
        "      <td>0.109756</td>\n",
        "      <td>0.902439</td>\n",
        "    </tr>\n",
        "  </tbody>\n",
        "</table>\n",
        "</div>"
       ],
       "metadata": {},
       "output_type": "pyout",
       "prompt_number": 5,
       "text": [
        "            Pass_seq_nt  Pass_seq_aa\n",
        "Heinze         0.929825     0.982456\n",
        "Moureau        0.232323     0.868687\n",
        "Pettersson     0.109756     0.902439"
       ]
      }
     ],
     "prompt_number": 5
    },
    {
     "cell_type": "code",
     "collapsed": false,
     "input": [
      "gc_all_res = pd.read_csv('gc_empirical_results.csv', index_col=0)\n",
      "gc_all_res"
     ],
     "language": "python",
     "metadata": {},
     "outputs": [
      {
       "html": [
        "<div style=\"max-height:1000px;max-width:1500px;overflow:auto;\">\n",
        "<table border=\"1\" class=\"dataframe\">\n",
        "  <thead>\n",
        "    <tr style=\"text-align: right;\">\n",
        "      <th></th>\n",
        "      <th>JC.P</th>\n",
        "      <th>GTR.P</th>\n",
        "      <th>GTRG.P</th>\n",
        "      <th>JC.TL</th>\n",
        "      <th>GTR.TL</th>\n",
        "      <th>GTRG.TL</th>\n",
        "      <th>JTT.P</th>\n",
        "      <th>JTTG.P</th>\n",
        "      <th>LG.P</th>\n",
        "      <th>LGG.P</th>\n",
        "      <th>JTT.TL</th>\n",
        "      <th>JTTG.TL</th>\n",
        "      <th>LG.TL</th>\n",
        "      <th>LGG.TL</th>\n",
        "    </tr>\n",
        "  </thead>\n",
        "  <tbody>\n",
        "    <tr>\n",
        "      <th>Heinze</th>\n",
        "      <td>0.000</td>\n",
        "      <td>0</td>\n",
        "      <td>0</td>\n",
        "      <td>4.338</td>\n",
        "      <td>4.495</td>\n",
        "      <td>9.864</td>\n",
        "      <td>0</td>\n",
        "      <td>0</td>\n",
        "      <td>0</td>\n",
        "      <td>0</td>\n",
        "      <td>3.037</td>\n",
        "      <td>3.798</td>\n",
        "      <td>3.098</td>\n",
        "      <td>3.976</td>\n",
        "    </tr>\n",
        "    <tr>\n",
        "      <th>Moureau</th>\n",
        "      <td>0.004</td>\n",
        "      <td>0</td>\n",
        "      <td>0</td>\n",
        "      <td>17.265</td>\n",
        "      <td>15.898</td>\n",
        "      <td>30.825</td>\n",
        "      <td>0</td>\n",
        "      <td>0</td>\n",
        "      <td>0</td>\n",
        "      <td>0</td>\n",
        "      <td>12.051</td>\n",
        "      <td>14.948</td>\n",
        "      <td>12.205</td>\n",
        "      <td>15.973</td>\n",
        "    </tr>\n",
        "    <tr>\n",
        "      <th>Pettersson</th>\n",
        "      <td>0.000</td>\n",
        "      <td>0</td>\n",
        "      <td>0</td>\n",
        "      <td>18.694</td>\n",
        "      <td>17.070</td>\n",
        "      <td>33.296</td>\n",
        "      <td>0</td>\n",
        "      <td>0</td>\n",
        "      <td>0</td>\n",
        "      <td>0</td>\n",
        "      <td>14.313</td>\n",
        "      <td>19.354</td>\n",
        "      <td>14.536</td>\n",
        "      <td>20.892</td>\n",
        "    </tr>\n",
        "  </tbody>\n",
        "</table>\n",
        "</div>"
       ],
       "metadata": {},
       "output_type": "pyout",
       "prompt_number": 6,
       "text": [
        "             JC.P  GTR.P  GTRG.P   JC.TL  GTR.TL  GTRG.TL  JTT.P  JTTG.P  \\\n",
        "Heinze      0.000      0       0   4.338   4.495    9.864      0       0   \n",
        "Moureau     0.004      0       0  17.265  15.898   30.825      0       0   \n",
        "Pettersson  0.000      0       0  18.694  17.070   33.296      0       0   \n",
        "\n",
        "            LG.P  LGG.P  JTT.TL  JTTG.TL   LG.TL  LGG.TL  \n",
        "Heinze         0      0   3.037    3.798   3.098   3.976  \n",
        "Moureau        0      0  12.051   14.948  12.205  15.973  \n",
        "Pettersson     0      0  14.313   19.354  14.536  20.892  "
       ]
      }
     ],
     "prompt_number": 6
    },
    {
     "cell_type": "code",
     "collapsed": false,
     "input": [
      "gc_nt_results = pd.concat([gc_all_res.ix[:, 0:6], puzzle_table.ix[:, 0] ], axis = 1)\n",
      "gc_aa_results = pd.concat([gc_all_res.ix[:, 6:], puzzle_table.ix[:, 1] ], axis = 1)"
     ],
     "language": "python",
     "metadata": {},
     "outputs": [],
     "prompt_number": 7
    },
    {
     "cell_type": "code",
     "collapsed": false,
     "input": [
      "gc_aa_results.to_csv(path_or_buf= 'gc_empirical_aa_results.csv')\n",
      "gc_nt_results.to_csv(path_or_buf= 'gc_empirical_nt_results.csv')"
     ],
     "language": "python",
     "metadata": {},
     "outputs": [],
     "prompt_number": 8
    },
    {
     "cell_type": "code",
     "collapsed": false,
     "input": [],
     "language": "python",
     "metadata": {},
     "outputs": [],
     "prompt_number": 8
    },
    {
     "cell_type": "code",
     "collapsed": false,
     "input": [],
     "language": "python",
     "metadata": {},
     "outputs": [],
     "prompt_number": 8
    },
    {
     "cell_type": "code",
     "collapsed": false,
     "input": [],
     "language": "python",
     "metadata": {},
     "outputs": []
    }
   ],
   "metadata": {}
  }
 ]
}