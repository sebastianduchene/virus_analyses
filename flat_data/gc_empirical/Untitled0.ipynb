{
 "metadata": {
  "name": "",
  "signature": "sha256:8d57af344475cf44461f11ba39a5e0b2d1ce22308c380ef4fe245b5d0e5ef3cf"
 },
 "nbformat": 3,
 "nbformat_minor": 0,
 "worksheets": [
  {
   "cells": [
    {
     "cell_type": "code",
     "collapsed": false,
     "input": [
      "import pandas as pd, numpy as np, matplotlib.pyplot as plt\n",
      "import os, re"
     ],
     "language": "python",
     "metadata": {},
     "outputs": [],
     "prompt_number": 1
    },
    {
     "cell_type": "code",
     "collapsed": false,
     "input": [
      "moureau_pp = pd.read_table('mb_runs/Moureau_mixed.p', header=False, skiprows = 1)\n",
      "heinze_pp = pd.read_table('mb_runs/Heinze_mixed.p', header=False, skiprows = 1)\n",
      "pettersson_pp = pd.read_table('mb_runs/Petterson_mixed.p', header=False, skiprows = 1)"
     ],
     "language": "python",
     "metadata": {},
     "outputs": [],
     "prompt_number": 16
    },
    {
     "cell_type": "code",
     "collapsed": false,
     "input": [
      "print moureau_pp.TL.tail(100).mean()\n",
      "print heinze_pp.TL.tail(100).mean()\n",
      "print pettersson_pp.TL.tail(100).mean()"
     ],
     "language": "python",
     "metadata": {},
     "outputs": [
      {
       "output_type": "stream",
       "stream": "stdout",
       "text": [
        "14.948653\n",
        "3.74464471\n",
        "19.5710246\n"
       ]
      }
     ],
     "prompt_number": 17
    },
    {
     "cell_type": "code",
     "collapsed": false,
     "input": [],
     "language": "python",
     "metadata": {},
     "outputs": [],
     "prompt_number": 13
    },
    {
     "cell_type": "code",
     "collapsed": false,
     "input": [],
     "language": "python",
     "metadata": {},
     "outputs": []
    }
   ],
   "metadata": {}
  }
 ]
}