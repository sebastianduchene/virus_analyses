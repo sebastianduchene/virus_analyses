{
 "metadata": {
  "name": "",
  "signature": "sha256:42152417405f72264dcbabcfc496ae106f41e97db1bd1adbadee1c46115400b1"
 },
 "nbformat": 3,
 "nbformat_minor": 0,
 "worksheets": [
  {
   "cells": [
    {
     "cell_type": "code",
     "collapsed": false,
     "input": [
      "import re, sys, os, copy, matplotlib.colors\n",
      "import pandas as pd, numpy as np, matplotlib.pyplot as plt\n",
      "from IPython import get_ipython\n",
      "ipython = get_ipython()\n",
      "ipython.magic('%load_ext rmagic')\n",
      "ipython.run_line_magic('R', 'library(phangorn)')\n",
      "pylab.rcParams['figure.figsize'] = (17, 5)\n",
      "ipython.run_line_magic('R', 'library(phangorn)')"
     ],
     "language": "python",
     "metadata": {},
     "outputs": [
      {
       "output_type": "stream",
       "stream": "stdout",
       "text": [
        "The rmagic extension is already loaded. To reload it, use:\n",
        "  %reload_ext rmagic\n"
       ]
      },
      {
       "metadata": {},
       "output_type": "pyout",
       "prompt_number": 68,
       "text": [
        "array(['phangorn', 'ape', 'tools', 'stats', 'graphics', 'grDevices',\n",
        "       'utils', 'datasets', 'methods', 'base'], \n",
        "      dtype='|S9')"
       ]
      }
     ],
     "prompt_number": 68
    },
    {
     "cell_type": "code",
     "collapsed": false,
     "input": [
      "# NT analyses\n",
      "results_frame_nt = np.empty(shape = (3, 6))\n",
      "print np.round(results_frame_nt, 2)\n",
      "#Matrix 1 is for nucleotides\n",
      "#The rows are the data sets. The first three columns are the P values, and the last 6 are \n",
      "#the tree lenghts"
     ],
     "language": "python",
     "metadata": {},
     "outputs": [
      {
       "output_type": "stream",
       "stream": "stdout",
       "text": [
        "[[  0.     0.     0.     4.34   4.49   9.86]\n",
        " [  0.     0.     0.    17.27  15.9   30.83]\n",
        " [  0.     0.     0.    18.69  17.07  33.3 ]]\n"
       ]
      }
     ],
     "prompt_number": 74
    },
    {
     "cell_type": "code",
     "collapsed": false,
     "input": [
      "ipython.run_line_magic('R', 'load(\"JC_Heinze_nt.Rdata\")')\n",
      "results_frame_nt[0, 0] = ipython.run_line_magic('R', 'run_1[[3]]')\n",
      "results_frame_nt[0, 3] = np.sum(ipython.run_line_magic('R', 'run_1[[4]]$tree$edge.length'))\n",
      "\n",
      "ipython.run_line_magic('R', 'load(\"JC_Moureau_nt.Rdata\")')\n",
      "results_frame_nt[1, 0] = ipython.run_line_magic('R', 'run_1[[3]]')\n",
      "results_frame_nt[1, 3] = np.sum(ipython.run_line_magic('R', 'run_1[[4]]$tree$edge.length'))\n",
      "\n",
      "ipython.run_line_magic('R', 'load(\"JC_Petterson_nt.Rdata\")')\n",
      "results_frame_nt[2, 0] = ipython.run_line_magic('R', 'run_1[[3]]')\n",
      "results_frame_nt[2, 3] = np.sum(ipython.run_line_magic('R', 'run_1[[4]]$tree$edge.length'))\n",
      "\n",
      "ipython.run_line_magic('R', 'load(\"GTR_Heinze_nt.Rdata\")')\n",
      "results_frame_nt[0, 1] = ipython.run_line_magic('R', 'run_1[[3]]')\n",
      "results_frame_nt[0, 4] = np.sum(ipython.run_line_magic('R', 'run_1[[4]]$tree$edge.length'))\n",
      "\n",
      "ipython.run_line_magic('R', 'load(\"GTR_Moureau_nt.Rdata\")')\n",
      "results_frame_nt[1, 1] = ipython.run_line_magic('R', 'run_1[[3]]')\n",
      "results_frame_nt[1, 4] = np.sum(ipython.run_line_magic('R', 'run_1[[4]]$tree$edge.length'))\n",
      "\n",
      "ipython.run_line_magic('R', 'load(\"GTR_Petterson_nt.Rdata\")')\n",
      "results_frame_nt[2, 1] = ipython.run_line_magic('R', 'run_1[[3]]')\n",
      "results_frame_nt[2, 4] = np.sum(ipython.run_line_magic('R', 'run_1[[4]]$tree$edge.length'))\n",
      "\n",
      "ipython.run_line_magic('R', 'load(\"GTRG_Heinze_nt.Rdata\")')\n",
      "results_frame_nt[0, 2] = ipython.run_line_magic('R', 'run_1[[3]]')\n",
      "results_frame_nt[0, 5] = np.sum(ipython.run_line_magic('R', 'run_1[[4]]$tree$edge.length'))\n",
      "\n",
      "ipython.run_line_magic('R', 'load(\"GTRG_Moureau_nt.Rdata\")')\n",
      "results_frame_nt[1, 2] = ipython.run_line_magic('R', 'run_1[[3]]')\n",
      "results_frame_nt[1, 5] = np.sum(ipython.run_line_magic('R', 'run_1[[4]]$tree$edge.length'))\n",
      "\n",
      "ipython.run_line_magic('R', 'load(\"GTRG_Petterson_nt.Rdata\")')\n",
      "results_frame_nt[2, 2] = ipython.run_line_magic('R', 'run_1[[3]]')\n",
      "results_frame_nt[2, 5] = np.sum(ipython.run_line_magic('R', 'run_1[[4]]$tree$edge.length'))\n",
      "\n",
      "results_frame_nt[:3, :3] = 0.5 - np.abs(0.5 - results_frame_nt[:3, :3])"
     ],
     "language": "python",
     "metadata": {},
     "outputs": [],
     "prompt_number": 160
    },
    {
     "cell_type": "code",
     "collapsed": false,
     "input": [
      "results_frame_nt[:, :3]"
     ],
     "language": "python",
     "metadata": {},
     "outputs": [
      {
       "metadata": {},
       "output_type": "pyout",
       "prompt_number": 157,
       "text": [
        "array([[ 0.   ,  0.   ,  0.   ],\n",
        "       [ 0.004,  0.   ,  0.   ],\n",
        "       [ 0.   ,  0.   ,  0.   ]])"
       ]
      }
     ],
     "prompt_number": 157
    },
    {
     "cell_type": "code",
     "collapsed": false,
     "input": [
      "# AA analyses\n",
      "results_frame_aa = np.empty(shape = (3, 8))\n",
      "print np.round(results_frame_aa, 1)\n",
      "#Matrix 2 is for amino-acids\n",
      "#The rows are the data sets. The first four columns are the P values, and the last four are \n",
      "#the tree lenghts "
     ],
     "language": "python",
     "metadata": {},
     "outputs": [
      {
       "output_type": "stream",
       "stream": "stdout",
       "text": [
        "[[ 0.  0.  0.  0.  0.  0.  0.  0.]\n",
        " [ 0.  0.  0.  0.  0.  0.  0.  0.]\n",
        " [ 0.  0.  0.  0.  0.  0.  0.  0.]]\n"
       ]
      }
     ],
     "prompt_number": 158
    },
    {
     "cell_type": "code",
     "collapsed": false,
     "input": [
      "ipython.run_line_magic('R', 'load(\"JTT_Heinze_aa.Rdata\")')\n",
      "results_frame_aa[0, 0] = ipython.run_line_magic('R', 'run_1[[3]]')\n",
      "results_frame_aa[0, 4] = np.sum(ipython.run_line_magic('R', 'run_1[[4]]$tree$edge.length'))\n",
      "\n",
      "ipython.run_line_magic('R', 'load(\"JTT_Moureau_aa.Rdata\")')\n",
      "results_frame_aa[1, 0] = ipython.run_line_magic('R', 'run_1[[3]]')\n",
      "results_frame_aa[1, 4] = np.sum(ipython.run_line_magic('R', 'run_1[[4]]$tree$edge.length'))\n",
      "\n",
      "ipython.run_line_magic('R', 'load(\"JTT_Petterson_aa.Rdata\")')\n",
      "results_frame_aa[2, 0] = ipython.run_line_magic('R', 'run_1[[3]]')\n",
      "results_frame_aa[2, 4] = np.sum(ipython.run_line_magic('R', 'run_1[[4]]$tree$edge.length'))\n",
      "\n",
      "ipython.run_line_magic('R', 'load(\"JTTG_Heinze_aa.Rdata\")')\n",
      "results_frame_aa[0, 1] = ipython.run_line_magic('R', 'run_1[[3]]')\n",
      "results_frame_aa[0, 5] = np.sum(ipython.run_line_magic('R', 'run_1[[4]]$tree$edge.length'))\n",
      "\n",
      "ipython.run_line_magic('R', 'load(\"JTTG_Moureau_aa.Rdata\")')\n",
      "results_frame_aa[1, 1] = ipython.run_line_magic('R', 'run_1[[3]]')\n",
      "results_frame_aa[1, 5] = np.sum(ipython.run_line_magic('R', 'run_1[[4]]$tree$edge.length'))\n",
      "\n",
      "ipython.run_line_magic('R', 'load(\"JTTG_Petterson_aa.Rdata\")')\n",
      "results_frame_aa[2, 1] = ipython.run_line_magic('R', 'run_1[[3]]')\n",
      "results_frame_aa[2, 5] = np.sum(ipython.run_line_magic('R', 'run_1[[4]]$tree$edge.length'))\n",
      "\n",
      "ipython.run_line_magic('R', 'load(\"LG_Heinze_aa.Rdata\")')\n",
      "results_frame_aa[0, 2] = ipython.run_line_magic('R', 'run_1[[3]]')\n",
      "results_frame_aa[0, 6] = np.sum(ipython.run_line_magic('R', 'run_1[[4]]$tree$edge.length'))\n",
      "\n",
      "ipython.run_line_magic('R', 'load(\"LG_Moureau_aa.Rdata\")')\n",
      "results_frame_aa[1, 2] = ipython.run_line_magic('R', 'run_1[[3]]')\n",
      "results_frame_aa[1, 6] = np.sum(ipython.run_line_magic('R', 'run_1[[4]]$tree$edge.length'))\n",
      "\n",
      "ipython.run_line_magic('R', 'load(\"LG_Petterson_aa.Rdata\")')\n",
      "results_frame_aa[2, 2] = ipython.run_line_magic('R', 'run_1[[3]]')\n",
      "results_frame_aa[2, 6] = np.sum(ipython.run_line_magic('R', 'run_1[[4]]$tree$edge.length'))\n",
      "\n",
      "ipython.run_line_magic('R', 'load(\"LGG_Heinze_aa.Rdata\")')\n",
      "results_frame_aa[0, 3] = ipython.run_line_magic('R', 'run_1[[3]]')\n",
      "results_frame_aa[0, 7] = np.sum(ipython.run_line_magic('R', 'run_1[[4]]$tree$edge.length'))\n",
      "\n",
      "ipython.run_line_magic('R', 'load(\"LGG_Moureau_aa.Rdata\")')\n",
      "results_frame_aa[1, 3] = ipython.run_line_magic('R', 'run_1[[3]]')\n",
      "results_frame_aa[1, 7] = np.sum(ipython.run_line_magic('R', 'run_1[[4]]$tree$edge.length'))\n",
      "\n",
      "ipython.run_line_magic('R', 'load(\"LGG_Petterson_aa.Rdata\")')\n",
      "results_frame_aa[2, 3] = ipython.run_line_magic('R', 'run_1[[3]]')\n",
      "results_frame_aa[2, 7] = np.sum(ipython.run_line_magic('R', 'run_1[[4]]$tree$edge.length'))\n",
      "\n",
      "results_frame_aa[:, :3] = 0.5 - np.abs(0.5 - results_frame_aa[:, :3])\n",
      "results_frame_aa[:, :3]"
     ],
     "language": "python",
     "metadata": {},
     "outputs": [
      {
       "metadata": {},
       "output_type": "pyout",
       "prompt_number": 210,
       "text": [
        "array([[ 0.,  0.,  0.],\n",
        "       [ 0.,  0.,  0.],\n",
        "       [ 0.,  0.,  0.]])"
       ]
      }
     ],
     "prompt_number": 210
    },
    {
     "cell_type": "code",
     "collapsed": false,
     "input": [
      "out_formatted = pd.DataFrame(np.concatenate((np.round(results_frame_nt, 3), np.round(results_frame_aa, 3)), axis = 1))\n",
      "out_formatted.index = ('Heinze', 'Moureau', 'Pettersson')\n",
      "out_formatted.columns =['JC.P', 'GTR.P', 'GTRG.P', 'JC.TL', 'GTR.TL', 'GTRG.TL', 'JTT.P', 'JTTG.P', 'LG.P', 'LGG.P', 'JTT.TL', 'JTTG.TL', 'LG.TL', 'LGG.TL']\n",
      "out_formatted.to_csv('gc_empirical_results.csv')"
     ],
     "language": "python",
     "metadata": {},
     "outputs": [],
     "prompt_number": 215
    },
    {
     "cell_type": "code",
     "collapsed": false,
     "input": [],
     "language": "python",
     "metadata": {},
     "outputs": [],
     "prompt_number": 204
    },
    {
     "cell_type": "code",
     "collapsed": false,
     "input": [],
     "language": "python",
     "metadata": {},
     "outputs": [],
     "prompt_number": 204
    },
    {
     "cell_type": "code",
     "collapsed": false,
     "input": [],
     "language": "python",
     "metadata": {},
     "outputs": [],
     "prompt_number": 204
    },
    {
     "cell_type": "code",
     "collapsed": false,
     "input": [],
     "language": "python",
     "metadata": {},
     "outputs": []
    }
   ],
   "metadata": {}
  }
 ]
}