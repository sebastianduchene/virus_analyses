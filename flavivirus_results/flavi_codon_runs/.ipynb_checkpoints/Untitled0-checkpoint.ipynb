{
 "metadata": {
  "name": "",
  "signature": "sha256:bed8226723f16f3046d30cbade9dfc457ca15ab3cb536ff0613f33e353dbc001"
 },
 "nbformat": 3,
 "nbformat_minor": 0,
 "worksheets": [
  {
   "cells": [
    {
     "cell_type": "code",
     "collapsed": false,
     "input": [
      "import pandas as pd\n",
      "import numpy as np\n",
      "import dendropy as dp\n",
      "import re, os\n",
      "import pyvolve\n",
      "execfile('sim_funs.py')\n",
      "import matplotlib.pyplot as plt\n",
      "import matplotlib.pylab as pylab\n",
      "%pylab inline\n",
      "pylab.rcParams['figure.figsize'] = 20, 5"
     ],
     "language": "python",
     "metadata": {},
     "outputs": [
      {
       "output_type": "stream",
       "stream": "stdout",
       "text": [
        "Populating the interactive namespace from numpy and matplotlib\n"
       ]
      }
     ],
     "prompt_number": 37
    },
    {
     "cell_type": "code",
     "collapsed": false,
     "input": [
      "params_file = pd.read_csv('Petterson_nt_complete.nexus.run1.p', skiprows=1, sep = '\\t')\n",
      "sampled_lines = np.random.uniform(size = params_file.shape[0]).argsort()[:100]\n",
      "trees_file = dp.TreeList.get_from_path('Petterson_nt_complete.nexus.run1.t', 'nexus')\n",
      "emp_data = fasta_to_matrix('Petterson_nt_complete.fasta')"
     ],
     "language": "python",
     "metadata": {},
     "outputs": [],
     "prompt_number": 76
    },
    {
     "cell_type": "code",
     "collapsed": false,
     "input": [
      "trees_list = list()\n",
      "\n",
      "for i in trees_file:\n",
      "    tree_text = re.sub('[[]&U[]]', '', i.as_string('newick'))\n",
      "    trees_list.append(tree_text)\n",
      "    \n",
      "nsites = len(emp_data[0])\n",
      "\n",
      "mliks = list()\n",
      "mchis = list()\n",
      "\n",
      "print multlik(emp_data), chisq(emp_data)\n",
      "\n",
      "for i in range(params_file.shape[0]):\n",
      "    params_temp = get_params_codons(params_file, i)\n",
      "    sim_temp = sim_codon(params_temp[0], params_temp[1], fix_tree(trees_list[i]), nsites)\n",
      "    mliks.append(multlik(sim_temp))\n",
      "    mchis.append(chisq(sim_temp))\n",
      "    \n",
      "    \n",
      "    \n",
      "    print i, mliks[i], mchis[i]"
     ],
     "language": "python",
     "metadata": {},
     "outputs": [
      {
       "output_type": "stream",
       "stream": "stdout",
       "text": [
        "-100749.970432 "
       ]
      },
      {
       "output_type": "stream",
       "stream": "stdout",
       "text": [
        "4897.42557088\n",
        "0"
       ]
      },
      {
       "output_type": "stream",
       "stream": "stdout",
       "text": [
        " -97438.44674 65.4276033503\n",
        "1"
       ]
      },
      {
       "output_type": "stream",
       "stream": "stdout",
       "text": [
        " -106150.385076 231.536071977\n",
        "2"
       ]
      },
      {
       "output_type": "stream",
       "stream": "stdout",
       "text": [
        " -106150.385076 251.593027724\n",
        "3"
       ]
      },
      {
       "output_type": "stream",
       "stream": "stdout",
       "text": [
        " -106150.385076 196.92657493\n",
        "4"
       ]
      },
      {
       "output_type": "stream",
       "stream": "stdout",
       "text": [
        " -106150.385076 323.195438985\n",
        "5"
       ]
      },
      {
       "output_type": "stream",
       "stream": "stdout",
       "text": [
        " -106150.385076 270.989920679\n",
        "6"
       ]
      },
      {
       "output_type": "stream",
       "stream": "stdout",
       "text": [
        " -106150.385076 280.802829704\n",
        "7"
       ]
      },
      {
       "output_type": "stream",
       "stream": "stdout",
       "text": [
        " -106150.385076 256.443432772\n",
        "8"
       ]
      },
      {
       "output_type": "stream",
       "stream": "stdout",
       "text": [
        " -106150.385076 279.438196953\n",
        "9"
       ]
      },
      {
       "output_type": "stream",
       "stream": "stdout",
       "text": [
        " -106150.385076 268.79100651\n",
        "10"
       ]
      },
      {
       "output_type": "stream",
       "stream": "stdout",
       "text": [
        " -106150.385076 333.188925974\n",
        "11"
       ]
      },
      {
       "output_type": "stream",
       "stream": "stdout",
       "text": [
        " -106150.385076 408.191596848\n",
        "12"
       ]
      },
      {
       "output_type": "stream",
       "stream": "stdout",
       "text": [
        " -106150.385076 249.843452603\n"
       ]
      }
     ],
     "prompt_number": 77
    },
    {
     "cell_type": "code",
     "collapsed": false,
     "input": [
      "fig, axs = plt.subplots(1, 2)\n",
      "ch_samps = np.random.normal(loc = np.mean(mchis), scale = np.std(mchis), size = 10000)\n",
      "ml_samps = np.random.normal(loc = np.mean(mliks), scale = np.std(mliks), size = 10000)\n",
      "axs[0].hist(ch_samps)\n",
      "axs[1].hist(ml_samps)\n"
     ],
     "language": "python",
     "metadata": {},
     "outputs": [
      {
       "metadata": {},
       "output_type": "pyout",
       "prompt_number": 78,
       "text": [
        "(array([  1.70000000e+01,   9.70000000e+01,   6.20000000e+02,\n",
        "          1.93900000e+03,   3.08900000e+03,   2.65800000e+03,\n",
        "          1.19800000e+03,   3.37000000e+02,   4.30000000e+01,\n",
        "          2.00000000e+00]),\n",
        " array([-114540.73501148, -112637.38213691, -110734.02926233,\n",
        "        -108830.67638776, -106927.32351319, -105023.97063861,\n",
        "        -103120.61776404, -101217.26488947,  -99313.91201489,\n",
        "         -97410.55914032,  -95507.20626575]),\n",
        " <a list of 10 Patch objects>)"
       ]
      },
      {
       "metadata": {},
       "output_type": "display_data",
       "png": "[encoded data removed]",
       "text": [
        "<matplotlib.figure.Figure at 0x10b39e9d0>"
       ]
      }
     ],
     "prompt_number": 78
    },
    {
     "cell_type": "code",
     "collapsed": false,
     "input": [
      "print 1 - np.sum(multlik(emp_data) > ml_samps) / float(ml_samps.shape[0])\n",
      "print 1 - np.sum(chisq(emp_data) > ch_samps) / float(ch_samps.shape[0])"
     ],
     "language": "python",
     "metadata": {},
     "outputs": [
      {
       "output_type": "stream",
       "stream": "stdout",
       "text": [
        "0.0269\n",
        "0.0"
       ]
      },
      {
       "output_type": "stream",
       "stream": "stdout",
       "text": [
        "\n"
       ]
      }
     ],
     "prompt_number": 79
    },
    {
     "cell_type": "code",
     "collapsed": false,
     "input": [
      "trees = dp.TreeList.get_from_path('moureau_nt_complete.nexus.run2.t', 'nexus')\n",
      "\n",
      "tl = list()\n",
      "\n",
      "for t in trees:\n",
      "    tl.append(t.length())\n",
      "\n",
      "plt.hist(tl)\n",
      "print np.mean(tl), np.percentile(tl, [5, 95])"
     ],
     "language": "python",
     "metadata": {},
     "outputs": [
      {
       "output_type": "stream",
       "stream": "stdout",
       "text": [
        "80.5440562438 [  29.62232113  121.4001035 ]\n"
       ]
      },
      {
       "metadata": {},
       "output_type": "display_data",
       "png": "[encoded data removed]",
       "text": [
        "<matplotlib.figure.Figure at 0x113c8dad0>"
       ]
      }
     ],
     "prompt_number": 80
    },
    {
     "cell_type": "code",
     "collapsed": false,
     "input": [
      "tl"
     ],
     "language": "python",
     "metadata": {},
     "outputs": [
      {
       "metadata": {},
       "output_type": "pyout",
       "prompt_number": 81,
       "text": [
        "[3.940000000000003,\n",
        " 67.41521627399993,\n",
        " 110.70254852999994,\n",
        " 114.65676224,\n",
        " 108.54621744,\n",
        " 112.02245860000004,\n",
        " 114.75661765000004,\n",
        " 121.55028878000002,\n",
        " 117.66720222100005,\n",
        " 121.33573838200003,\n",
        " 40.6290301814,\n",
        " 42.22720779819999,\n",
        " 41.67751311720002,\n",
        " 43.87121899490001,\n",
        " 47.16282344890002]"
       ]
      }
     ],
     "prompt_number": 81
    },
    {
     "cell_type": "code",
     "collapsed": false,
     "input": [],
     "language": "python",
     "metadata": {},
     "outputs": [],
     "prompt_number": 82
    },
    {
     "cell_type": "code",
     "collapsed": false,
     "input": [],
     "language": "python",
     "metadata": {},
     "outputs": []
    }
   ],
   "metadata": {}
  }
 ]
}