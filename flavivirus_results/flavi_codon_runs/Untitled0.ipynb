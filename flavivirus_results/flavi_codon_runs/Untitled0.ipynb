{
 "metadata": {
  "name": "",
  "signature": "sha256:71df5f3cfaa709bb74bf2322074b19553a005aa548b4bd38e135917a7ebb27da"
 },
 "nbformat": 3,
 "nbformat_minor": 0,
 "worksheets": [
  {
   "cells": [
    {
     "cell_type": "code",
     "collapsed": false,
     "input": [
      "import dendropy as dp\n",
      "import os, re"
     ],
     "language": "python",
     "metadata": {},
     "outputs": [],
     "prompt_number": 1
    },
    {
     "cell_type": "code",
     "collapsed": false,
     "input": [
      "fasta_files = [i for i in os.listdir('.') if 'fasta' in i]\n",
      "for f in fasta_files:\n",
      "    \n",
      "    dat_mat  = dp.DnaCharacterMatrix.get(path = f, schema = 'fasta')\n",
      "    dat_mat.write(path = re.sub('fasta', 'nexus', f), schema = 'nexus')"
     ],
     "language": "python",
     "metadata": {},
     "outputs": [],
     "prompt_number": 5
    },
    {
     "cell_type": "code",
     "collapsed": false,
     "input": [],
     "language": "python",
     "metadata": {},
     "outputs": [],
     "prompt_number": 7
    },
    {
     "cell_type": "code",
     "collapsed": false,
     "input": [],
     "language": "python",
     "metadata": {},
     "outputs": []
    }
   ],
   "metadata": {}
  }
 ]
}