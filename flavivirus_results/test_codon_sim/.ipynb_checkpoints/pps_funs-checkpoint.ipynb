{
 "metadata": {
  "name": "",
  "signature": "sha256:13b8a1450e8f2f7061dd2bde35825487f3e02d1793721856831a2bd5b27ffefe"
 },
 "nbformat": 3,
 "nbformat_minor": 0,
 "worksheets": [
  {
   "cells": [
    {
     "cell_type": "markdown",
     "metadata": {},
     "source": [
      "# Functions to run posterior predictive simulations on Flavivirus data sets with multlik and $\\chi^2$ test\n",
      "\n",
      "- Sebastian Duchene July 31 2015"
     ]
    },
    {
     "cell_type": "code",
     "collapsed": false,
     "input": [
      "import re\n",
      "import numpy as np\n",
      "from scipy import stats"
     ],
     "language": "python",
     "metadata": {},
     "outputs": [],
     "prompt_number": 1
    },
    {
     "cell_type": "code",
     "collapsed": false,
     "input": [
      "def multlik(seq_mat):\n",
      "    from scipy import stats\n",
      "    nsites = seq_mat.shape[1]\n",
      "    patterns = stats.itemfreq([''.join(seq_mat[:, i]) for i in range(nsites)])\n",
      "    patterns_al = [float(i) for i in patterns[:, 1]]\n",
      "    return sum([(np.log(i) * i) for i in patterns_al]) - nsites*np.log(nsites)"
     ],
     "language": "python",
     "metadata": {},
     "outputs": [],
     "prompt_number": 2
    },
    {
     "cell_type": "code",
     "collapsed": false,
     "input": [
      "def chisq(seq_mat):\n",
      "    from scipy import stats\n",
      "    sites = list(set(seq_mat.ravel()))\n",
      "    \n",
      "    def count_sites(seq, sites):\n",
      "        counts = list()\n",
      "        for s in sites:\n",
      "            counts.append(sum([i == s for i in seq]))\n",
      "        return counts\n",
      "\n",
      "    contingency_table = np.empty(shape = (seq_mat.shape[0], len(sites)))\n",
      "\n",
      "    for seq in range(seq_mat.shape[0]):\n",
      "        contingency_table[seq, :] = count_sites(seq_mat[seq, :], sites)\n",
      "\n",
      "    return stats.chi2_contingency(contingency_table)[0]"
     ],
     "language": "python",
     "metadata": {},
     "outputs": [],
     "prompt_number": 10
    },
    {
     "cell_type": "code",
     "collapsed": false,
     "input": [
      "def fasta_to_matrix(file_name):\n",
      "    import numpy as np\n",
      "    import re\n",
      "    raw_lines = open(file_name, 'r').readlines()\n",
      "    seqs = [re.sub('\\n', '', i) for i in raw_lines if len(re.findall('^>', i)) == 0]\n",
      "    seq_mat = np.empty(shape = (len(seqs), len(seqs[0])), dtype = str)\n",
      "    \n",
      "    for s in range(len(seqs)):\n",
      "        seq_mat[s, :] = list(seqs[s])\n",
      "    return seq_mat"
     ],
     "language": "python",
     "metadata": {},
     "outputs": [],
     "prompt_number": 11
    },
    {
     "cell_type": "code",
     "collapsed": false,
     "input": [
      "def dict_to_matrix(seq_dict):\n",
      "    import numpy as np\n",
      "    import re\n",
      "    \n",
      "    seq_mat = np.empty(shape = (len(seq_dict), len(seq_dict[seq_dict.keys()[0]])), dtype = str)\n",
      "    for s in range(len(seq_dict)):\n",
      "        seq_mat[s, :] = list(seq_dict[seq_dict.keys()[s]])\n",
      "    return seq_mat\n",
      "\n"
     ],
     "language": "python",
     "metadata": {},
     "outputs": [],
     "prompt_number": 12
    },
    {
     "cell_type": "markdown",
     "metadata": {},
     "source": [
      "- Some examples to read files and calculate statistics"
     ]
    },
    {
     "cell_type": "code",
     "collapsed": false,
     "input": [
      "seqs_read = fasta_to_matrix('my_data.fasta')\n",
      "\n",
      "seqs[:, :]"
     ],
     "language": "python",
     "metadata": {},
     "outputs": [
      {
       "metadata": {},
       "output_type": "pyout",
       "prompt_number": 23,
       "text": [
        "array([['g', 't', 'g', 'c', 'g', 'g', 'a', 'g', 'a', 'c'],\n",
        "       ['g', 't', 'g', 'c', 'g', 'g', 'a', 'g', 'a', 'c'],\n",
        "       ['g', 't', 'g', 't', 'g', 'g', 'a', 'g', 'a', 'c'],\n",
        "       ['g', 't', 'g', 'c', 'g', 'g', 'a', 'g', 'a', 'c'],\n",
        "       ['g', 't', 'g', 'c', 'g', 'g', 'a', 'g', 'a', 'c'],\n",
        "       ['g', 't', 'g', 'c', 'g', 'g', 'a', 'g', 'a', 'c'],\n",
        "       ['g', 't', 'g', 'c', 'g', 'g', 'a', 'g', 'a', 'c'],\n",
        "       ['g', 't', 'g', 'c', 'g', 'g', 'a', 'g', 'a', 'c'],\n",
        "       ['g', 't', 'g', 'c', 'g', 'g', 'a', 'g', 'a', 'c'],\n",
        "       ['g', 't', 'g', 'c', 'g', 'g', 'a', 'g', 'a', 'c']], \n",
        "      dtype='|S1')"
       ]
      }
     ],
     "prompt_number": 23
    },
    {
     "cell_type": "code",
     "collapsed": false,
     "input": [
      "multlik(seqs_read)"
     ],
     "language": "python",
     "metadata": {},
     "outputs": [
      {
       "metadata": {},
       "output_type": "pyout",
       "prompt_number": 24,
       "text": [
        "-13.592367006650068"
       ]
      }
     ],
     "prompt_number": 24
    },
    {
     "cell_type": "code",
     "collapsed": false,
     "input": [
      "chisq(seqs_read)"
     ],
     "language": "python",
     "metadata": {},
     "outputs": [
      {
       "metadata": {},
       "output_type": "pyout",
       "prompt_number": 25,
       "text": [
        "1.2918660287081341"
       ]
      }
     ],
     "prompt_number": 25
    },
    {
     "cell_type": "code",
     "collapsed": false,
     "input": [
      "###########\n",
      "###########\n",
      "import pyvolve\n",
      "custom_mu = {\"AC\":2.21506, \"AG\":4.60638, \"AT\":1.20487, \"CG\":0.68210, \"CT\":11.64502, \"GT\":1.00000}\n",
      "freqs = [0.25, 0.20, 0.3, 0.25]\n",
      "gtr_model = pyvolve.Model('nucleotide', {'mu':custom_mu, 'state_freqs':freqs}, alpha = 0.378, num_categories = 4)\n",
      "gtr_partition = pyvolve.Partition(models = gtr_model, size = 990)\n",
      "\n",
      "\n",
      "tr = pyvolve.read_tree(file = 'sim_1.tre')\n",
      "gtr_evolver = pyvolve.Evolver(partitions = gtr_partition, tree = tr)\n",
      "\n",
      "gtr_evolver()\n",
      "gtr_evolver.get_sequences()\n",
      "\n",
      "seqs_sim = dict_to_matrix(gtr_evolver.get_sequences())"
     ],
     "language": "python",
     "metadata": {},
     "outputs": [],
     "prompt_number": 26
    },
    {
     "cell_type": "code",
     "collapsed": false,
     "input": [
      "print multlik(seqs_sim)\n",
      "print chisq(seqs_sim)"
     ],
     "language": "python",
     "metadata": {},
     "outputs": [
      {
       "output_type": "stream",
       "stream": "stdout",
       "text": [
        "-5754.70539351\n",
        "25.9978755529\n"
       ]
      }
     ],
     "prompt_number": 27
    },
    {
     "cell_type": "code",
     "collapsed": false,
     "input": [],
     "language": "python",
     "metadata": {},
     "outputs": []
    }
   ],
   "metadata": {}
  }
 ]
}