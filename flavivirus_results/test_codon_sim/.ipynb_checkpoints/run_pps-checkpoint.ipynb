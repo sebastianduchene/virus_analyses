{
 "metadata": {
  "name": "",
  "signature": "sha256:01dcbc929ff9d054c71e5477c5c02eda4a66664e0ac3bbaf11f986b998b2f31c"
 },
 "nbformat": 3,
 "nbformat_minor": 0,
 "worksheets": [
  {
   "cells": [
    {
     "cell_type": "code",
     "collapsed": false,
     "input": [
      "import pandas as pd\n",
      "import numpy as np\n",
      "import dendropy as dp\n",
      "import re\n",
      "import pyvolve\n",
      "execfile('sim_funs.py')\n",
      "import matplotlib.pyplot as plt\n",
      "import matplotlib.pylab as pylab\n",
      "%pylab inline\n",
      "pylab.rcParams['figure.figsize'] = 20, 5"
     ],
     "language": "python",
     "metadata": {},
     "outputs": [
      {
       "output_type": "stream",
       "stream": "stdout",
       "text": [
        "Populating the interactive namespace from numpy and matplotlib\n"
       ]
      }
     ],
     "prompt_number": 1
    },
    {
     "cell_type": "code",
     "collapsed": false,
     "input": [
      "params_file = pd.read_csv('mb_gtrg/sim_codon_1.nexus.run1.p', skiprows = 1, sep = '\\t')\n",
      "trees_file = dp.TreeList.get_from_path('mb_gtrg/sim_codon_1.nexus.run1.t', 'nexus')\n",
      "emp_data = fasta_to_matrix('mb_gtrg/sim_codon_1.fasta')\n",
      "nsites = len(emp_data[0])"
     ],
     "language": "python",
     "metadata": {},
     "outputs": [],
     "prompt_number": 6
    },
    {
     "cell_type": "code",
     "collapsed": false,
     "input": [
      "# Clean trees into list\n",
      "trees_list = list()\n",
      "for i in trees_file:\n",
      "\n",
      "#    dp.Tree.level_order_edge_iter\n",
      "#    print i.as_newick_string()\n",
      "#    for edge in i.inorder_edge_iter():\n",
      "#        edge.length = edge.length * 3\n",
      "\n",
      "    tree_text = re.sub('[[]&U[]]', '', i.as_string('newick'))\n",
      "    trees_list.append(tree_text)"
     ],
     "language": "python",
     "metadata": {},
     "outputs": [],
     "prompt_number": 7
    },
    {
     "cell_type": "code",
     "collapsed": false,
     "input": [
      "for edge in trees_file[1].leaf_edge_iter():\n",
      "    print edge.length\n",
      "#dir(trees_file[0])"
     ],
     "language": "python",
     "metadata": {},
     "outputs": [
      {
       "output_type": "stream",
       "stream": "stdout",
       "text": [
        "0.07087598\n",
        "0.1917209\n",
        "0.1080532\n",
        "0.09206798\n",
        "0.09551353\n",
        "0.08132459\n",
        "0.1091508\n",
        "0.1089134\n",
        "0.1118078\n",
        "0.05784797\n"
       ]
      }
     ],
     "prompt_number": 8
    },
    {
     "cell_type": "code",
     "collapsed": false,
     "input": [
      "sampled_lines = np.random.uniform(size = params_file.shape[0]).argsort()[:100]"
     ],
     "language": "python",
     "metadata": {},
     "outputs": [],
     "prompt_number": 9
    },
    {
     "cell_type": "code",
     "collapsed": false,
     "input": [
      "sampled_params = params_file.ix[sampled_lines, :]\n",
      "sampled_params.index = [i for i in range(sampled_params.shape[0])]\n",
      "sampled_trees = [trees_list[t] for t in sampled_lines]"
     ],
     "language": "python",
     "metadata": {},
     "outputs": [],
     "prompt_number": 10
    },
    {
     "cell_type": "code",
     "collapsed": false,
     "input": [
      "mliks = list()\n",
      "chis = list()\n",
      "\n",
      "for i in range(sampled_params.shape[0]):\n",
      "    params_temp = get_params_gtrg(sampled_params, i)\n",
      "    sim_temp = sim_gtr(params_temp[0], params_temp[1], params_temp[2], sampled_trees[i], nsites)\n",
      "    mliks.append(multlik(sim_temp))\n",
      "    chis.append(chisq(sim_temp))\n",
      "    \n",
      "    if i % 10 == 0:\n",
      "        print i, mliks[i], chis[i]"
     ],
     "language": "python",
     "metadata": {},
     "outputs": [
      {
       "output_type": "stream",
       "stream": "stdout",
       "text": [
        "0 -5292.4840784 5.58738124169\n",
        "10"
       ]
      },
      {
       "output_type": "stream",
       "stream": "stdout",
       "text": [
        " -5470.98879438 5.04190612483\n",
        "20"
       ]
      },
      {
       "output_type": "stream",
       "stream": "stdout",
       "text": [
        " -5282.15732101 19.4144611686\n",
        "30"
       ]
      },
      {
       "output_type": "stream",
       "stream": "stdout",
       "text": [
        " -5052.74700263 10.6129470601\n",
        "40"
       ]
      },
      {
       "output_type": "stream",
       "stream": "stdout",
       "text": [
        " -5103.9578735 14.6877949128\n",
        "50"
       ]
      },
      {
       "output_type": "stream",
       "stream": "stdout",
       "text": [
        " -5325.99325955 9.11883507759\n",
        "60"
       ]
      },
      {
       "output_type": "stream",
       "stream": "stdout",
       "text": [
        " -5010.15898433 12.6937848972\n",
        "70"
       ]
      },
      {
       "output_type": "stream",
       "stream": "stdout",
       "text": [
        " -5344.96013884 13.3587648697\n",
        "80"
       ]
      },
      {
       "output_type": "stream",
       "stream": "stdout",
       "text": [
        " -5151.99882503 12.5653662052\n",
        "90"
       ]
      },
      {
       "output_type": "stream",
       "stream": "stdout",
       "text": [
        " -5356.63375099 16.0322354399\n"
       ]
      }
     ],
     "prompt_number": 11
    },
    {
     "cell_type": "code",
     "collapsed": false,
     "input": [
      "fig, axs = plt.subplots(1, 2)\n",
      "axs[0].hist(mliks)\n",
      "axs[0].set_title('Unconstrained likelihood')\n",
      "axs[1].hist(chis)\n",
      "axs[1].set_title('$\\chi^2$')"
     ],
     "language": "python",
     "metadata": {},
     "outputs": [
      {
       "metadata": {},
       "output_type": "pyout",
       "prompt_number": 12,
       "text": [
        "<matplotlib.text.Text at 0x12f419410>"
       ]
      },
      {
       "metadata": {},
       "output_type": "display_data",
       "png": "[encoded data removed]",
       "text": [
        "<matplotlib.figure.Figure at 0x12f47ef90>"
       ]
      }
     ],
     "prompt_number": 12
    },
    {
     "cell_type": "code",
     "collapsed": false,
     "input": [
      "print sum(multlik(emp_data) > np.array(mliks)) /100.\n",
      "print sum(chisq(emp_data) > np.array(chis)) / 100.\n",
      "print multlik(emp_data)"
     ],
     "language": "python",
     "metadata": {},
     "outputs": [
      {
       "output_type": "stream",
       "stream": "stdout",
       "text": [
        "0.0\n",
        "0.32\n",
        "-5621.97370784\n"
       ]
      }
     ],
     "prompt_number": 13
    },
    {
     "cell_type": "markdown",
     "metadata": {},
     "source": [
      "## !The multinomial likelihood appears to identify the codon model. The $\\chi^2$ does not. Now run PPS using codon model "
     ]
    },
    {
     "cell_type": "markdown",
     "metadata": {},
     "source": [
      "###To run simulations, ensure that the input tree has branch lengths multiplied by 3."
     ]
    },
    {
     "cell_type": "code",
     "collapsed": false,
     "input": [
      "params_file = pd.read_csv('mb_codon/sim_codon_1.nexus.run1.p', skiprows=1, sep = '\\t')\n",
      "sampled_lines = np.random.uniform(size = params_file.shape[0]).argsort()[:100]\n",
      "tree_file = dp.TreeList.get_from_path('mb_codon/sim_codon_1.nexus.run1.t', 'nexus')\n",
      "emp_dat = fasta_to_matrix('mb_codon/sim_codon_1.fasta')\n",
      "\n",
      "trees_list = list()\n",
      "\n",
      "for i in trees_file:\n",
      "#    for edge in i.inorder_edge_iter():\n",
      "#        print edge\n",
      "    tree_text = re.sub('[[]&U[]]', '', i.as_string('newick'))\n",
      "    trees_list.append(tree_text)\n",
      "    \n",
      "sampled_trees = [trees_list[t] for t in sampled_lines]\n",
      "\n",
      "sampled_lines = np.random.uniform(size = params_file.shape[0]).argsort()[:100]\n",
      "sampled_params = params_file.ix[sampled_lines, :]\n",
      "sampled_params.index = [i for i in range(sampled_params.shape[0])]\n"
     ],
     "language": "python",
     "metadata": {},
     "outputs": [],
     "prompt_number": 21
    },
    {
     "cell_type": "code",
     "collapsed": false,
     "input": [],
     "language": "python",
     "metadata": {},
     "outputs": [],
     "prompt_number": 21
    },
    {
     "cell_type": "code",
     "collapsed": false,
     "input": [
      "nsites = len(emp_dat[0])\n",
      "#tree = sampled_trees[3]\n"
     ],
     "language": "python",
     "metadata": {},
     "outputs": [],
     "prompt_number": 22
    },
    {
     "cell_type": "markdown",
     "metadata": {},
     "source": [
      "### fix trees before simulations"
     ]
    },
    {
     "cell_type": "code",
     "collapsed": false,
     "input": [
      "mliks = list()\n",
      "chis = list()\n",
      "\n",
      "for i in range(sampled_params.shape[0]):\n",
      "    params_temp = get_params_codons(sampled_params, i)\n",
      "    sim_temp = sim_codon(params_temp[0], params_temp[1], fix_tree(sampled_trees[i]), nsites)\n",
      "    mliks.append(multlik(sim_temp))\n",
      "    chis.append(chisq(sim_temp))\n",
      "    \n",
      "    if i % 10 == 0:\n",
      "        print i, mliks[i], chis[i]\n",
      "#        print len(sim_temp[0])"
     ],
     "language": "python",
     "metadata": {},
     "outputs": [
      {
       "output_type": "stream",
       "stream": "stdout",
       "text": [
        "0 -5687.88155241 23.8739922673\n",
        "10"
       ]
      },
      {
       "output_type": "stream",
       "stream": "stdout",
       "text": [
        " -5572.25691291 17.988126862\n",
        "20"
       ]
      },
      {
       "output_type": "stream",
       "stream": "stdout",
       "text": [
        " -5617.56312781 11.2515952362\n",
        "30"
       ]
      },
      {
       "output_type": "stream",
       "stream": "stdout",
       "text": [
        " -5585.27087512 18.2688244248\n",
        "40"
       ]
      },
      {
       "output_type": "stream",
       "stream": "stdout",
       "text": [
        " -5453.0595425 18.0401909238\n",
        "50"
       ]
      },
      {
       "output_type": "stream",
       "stream": "stdout",
       "text": [
        " -5475.20435773 13.4346272689\n",
        "60"
       ]
      },
      {
       "output_type": "stream",
       "stream": "stdout",
       "text": [
        " -5605.51638595 6.69084088743\n",
        "70"
       ]
      },
      {
       "output_type": "stream",
       "stream": "stdout",
       "text": [
        " -5484.30842805 8.89391428714\n",
        "80"
       ]
      },
      {
       "output_type": "stream",
       "stream": "stdout",
       "text": [
        " -5635.90305907 7.77032849191\n",
        "90"
       ]
      },
      {
       "output_type": "stream",
       "stream": "stdout",
       "text": [
        " -5525.14690351 7.20283910908\n"
       ]
      }
     ],
     "prompt_number": 23
    },
    {
     "cell_type": "code",
     "collapsed": false,
     "input": [
      "fig, axs = plt.subplots(1, 2)\n",
      "axs[0].hist(mliks)\n",
      "axs[0].set_title('Unconstrained likelihood')\n",
      "axs[1].hist(chis)\n",
      "axs[1].set_title('$\\chi^2$')"
     ],
     "language": "python",
     "metadata": {},
     "outputs": [
      {
       "metadata": {},
       "output_type": "pyout",
       "prompt_number": 24,
       "text": [
        "<matplotlib.text.Text at 0x12e6cda10>"
       ]
      },
      {
       "metadata": {},
       "output_type": "display_data",
       "png": "[encoded data removed]",
       "text": [
        "<matplotlib.figure.Figure at 0x10fda0990>"
       ]
      }
     ],
     "prompt_number": 24
    },
    {
     "cell_type": "code",
     "collapsed": false,
     "input": [
      "print sum(multlik(emp_dat) > mliks) / 100.\n",
      "print sum(chisq(emp_dat) > chis) / 100."
     ],
     "language": "python",
     "metadata": {},
     "outputs": [
      {
       "output_type": "stream",
       "stream": "stdout",
       "text": [
        "0.1\n",
        "0.74\n"
       ]
      }
     ],
     "prompt_number": 25
    },
    {
     "cell_type": "code",
     "collapsed": false,
     "input": [
      "print multlik(emp_dat)\n",
      "print chisq(emp_dat)"
     ],
     "language": "python",
     "metadata": {},
     "outputs": [
      {
       "output_type": "stream",
       "stream": "stdout",
       "text": [
        "-5621.97370784\n",
        "9.42769092699\n"
       ]
      }
     ],
     "prompt_number": 53
    },
    {
     "cell_type": "code",
     "collapsed": false,
     "input": [
      "len(emp_dat[0])"
     ],
     "language": "python",
     "metadata": {},
     "outputs": [
      {
       "metadata": {},
       "output_type": "pyout",
       "prompt_number": 315,
       "text": [
        "990"
       ]
      }
     ],
     "prompt_number": 315
    },
    {
     "cell_type": "code",
     "collapsed": false,
     "input": [
      "#check base composition in emp and in simulations. "
     ],
     "language": "python",
     "metadata": {},
     "outputs": [],
     "prompt_number": 87
    },
    {
     "cell_type": "code",
     "collapsed": false,
     "input": [],
     "language": "python",
     "metadata": {},
     "outputs": [],
     "prompt_number": 87
    },
    {
     "cell_type": "markdown",
     "metadata": {},
     "source": [
      "### Functions to transform branch lengths"
     ]
    },
    {
     "cell_type": "code",
     "collapsed": false,
     "input": [
      "def var_sites(mat_dat):\n",
      "    return sum([len(set(''.join(mat_dat[:, i]))) > 1 for i in range(mat_dat.shape[1])]) / float(mat_dat.shape[1])\n",
      "\n",
      "def fix_tree(tree):\n",
      "    import dendropy\n",
      "    tr = dendropy.Tree.get(data = tree, schema = 'newick')\n",
      "    for edge in tr.postorder_edge_iter():\n",
      "        if not edge.length is None:\n",
      "            edge.length = edge.length * 3\n",
      "    return tr.as_string(schema = 'newick')"
     ],
     "language": "python",
     "metadata": {},
     "outputs": [],
     "prompt_number": 17
    },
    {
     "cell_type": "code",
     "collapsed": false,
     "input": [
      "tree_text = re.sub('[[]&U[]]|\\n| ', '', trees_file[5].as_string('newick'))\n",
      "tree = pyvolve.read_tree(tree = tree_text)"
     ],
     "language": "python",
     "metadata": {},
     "outputs": [],
     "prompt_number": 183
    },
    {
     "cell_type": "code",
     "collapsed": false,
     "input": [
      "freqs = np.array([1/61. for i in range(61)])\n",
      "model_cod = pyvolve.Model('GY', {'omega':[0.5, 1, 1.5], 'state_freqs':freqs})\n",
      "model_nuc = pyvolve.Model('nucleotide')\n",
      "\n",
      "partition_cod = pyvolve.Partition(models = model_cod, size = 90)\n",
      "evolver_cod = pyvolve.Evolver(partitions = partition_cod, tree = tree)\n",
      "\n",
      "evolver_cod()\n",
      "mat_dat_cod = dict_to_matrix(evolver_cod.get_sequences())\n",
      "print var_sites(mat_dat_cod), mat_dat_cod.shape\n",
      "\n",
      "##\n",
      "\n",
      "model_cod = pyvolve.Model('GY', {'omega':[0.5, 1, 2.5], 'state_freqs':freqs})\n",
      "model_nuc = pyvolve.Model('nucleotide')\n",
      "\n",
      "partition_cod = pyvolve.Partition(models = model_cod, size = 90)\n",
      "evolver_cod = pyvolve.Evolver(partitions = partition_cod, tree = tree)\n",
      "\n",
      "evolver_cod()\n",
      "mat_dat_cod = dict_to_matrix(evolver_cod.get_sequences())\n",
      "print var_sites(mat_dat_cod), mat_dat_cod.shape\n",
      "\n",
      "\n",
      "\n",
      "\n",
      "\n",
      "partition_nuc = pyvolve.Partition(models = model_nuc, size = 270)\n",
      "evolver_nuc = pyvolve.Evolver(partitions = partition_nuc, tree = tree)\n",
      "\n",
      "evolver_nuc()\n",
      "mat_dat_nuc = dict_to_matrix(evolver_nuc.get_sequences())\n",
      "print var_sites(mat_dat_nuc), mat_dat_nuc.shape\n",
      "\n"
     ],
     "language": "python",
     "metadata": {},
     "outputs": [
      {
       "output_type": "stream",
       "stream": "stdout",
       "text": [
        "0.425925925926 (10, 270)\n",
        "0.337037037037"
       ]
      },
      {
       "output_type": "stream",
       "stream": "stdout",
       "text": [
        " (10, 270)\n",
        "0.807407407407"
       ]
      },
      {
       "output_type": "stream",
       "stream": "stdout",
       "text": [
        " (10, 270)\n"
       ]
      }
     ],
     "prompt_number": 241
    },
    {
     "cell_type": "code",
     "collapsed": false,
     "input": [
      "tr = dp.Tree.get(data = tree_text, schema = 'newick')"
     ],
     "language": "python",
     "metadata": {},
     "outputs": [],
     "prompt_number": 169
    },
    {
     "cell_type": "code",
     "collapsed": false,
     "input": [
      "print tree_text\n",
      "print fix_tree(tree_text)"
     ],
     "language": "python",
     "metadata": {},
     "outputs": [
      {
       "output_type": "stream",
       "stream": "stdout",
       "text": [
        "(T7:0.09807504,(((T4:0.0770744,(T1:0.05919754,(T3:0.102737,T2:0.09599553):0.1574099):0.09760752):0.04610055,(T10:0.05589579,T9:0.096558):0.196891):0.08129592,(T5:0.04993832,T6:0.1361141):0.08776132):0.06545468,T8:0.0493236);\n",
        "(T7:0.19615008,(((T4:0.1541488,(T1:0.11839508,(T3:0.205474,T2:0.19199106):0.3148198):0.19521504):0.0922011,(T10:0.11179158,T9:0.193116):0.393782):0.16259184,(T5:0.09987664,T6:0.2722282):0.17552264):0.13090936,T8:0.0986472);\n",
        "\n"
       ]
      }
     ],
     "prompt_number": 189
    },
    {
     "cell_type": "code",
     "collapsed": false,
     "input": [],
     "language": "python",
     "metadata": {},
     "outputs": []
    }
   ],
   "metadata": {}
  }
 ]
}