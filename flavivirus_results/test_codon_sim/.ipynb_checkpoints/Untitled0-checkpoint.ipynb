{
 "metadata": {
  "name": "",
  "signature": "sha256:5436978795c830b0bef4c98bec2b2f128e39fbfcd8717964f5b900806afba882"
 },
 "nbformat": 3,
 "nbformat_minor": 0,
 "worksheets": [
  {
   "cells": [
    {
     "cell_type": "code",
     "collapsed": false,
     "input": [
      "import numpy as np\n",
      "import dendropy\n",
      "from dendropy import simulate\n",
      "import pyvolve\n",
      "import re"
     ],
     "language": "python",
     "metadata": {},
     "outputs": [],
     "prompt_number": 60
    },
    {
     "cell_type": "markdown",
     "metadata": {},
     "source": [
      "## Simulate codon data sets \n",
      "\n",
      "Parameterised according to the Heinze nt data set\n",
      "\n",
      "- Simulate 10 trees under the birth-death, convert branches, and store in list\n"
     ]
    },
    {
     "cell_type": "code",
     "collapsed": false,
     "input": [
      "sim_trees = []\n",
      "\n",
      "for tree in range(10):\n",
      "    t = simulate.treesim.birth_death_tree(birth_rate = 1.0, death_rate = 0.5, ntax = 10)\n",
      "    \n",
      "    for edge in t.inorder_edge_iter():\n",
      "        edge.length = round(np.random.lognormal(mean = -1.5, sigma = 0.3), 2)\n",
      "    t.write_to_path(dest = 'sim_'+str(tree+1)+'.tre', schema = 'newick')\n",
      "    \n",
      "    sim_trees.append(t)"
     ],
     "language": "python",
     "metadata": {},
     "outputs": [],
     "prompt_number": 61
    },
    {
     "cell_type": "markdown",
     "metadata": {},
     "source": [
      "- Simulate codon sequences for each tree with three omega categories and a sequence length of 990"
     ]
    },
    {
     "cell_type": "code",
     "collapsed": false,
     "input": [
      "freqs = [1/61. for i in range(61)] # Derive from empirical data\n",
      "gy_model = pyvolve.Model('GY', {'omega':[0.5, 1, 1.5], 'state_freqs':freqs})\n",
      "gy_partition = pyvolve.Partition(models = gy_model, size = 330)\n",
      "\n",
      "for tree in range(10):\n",
      "    tr = pyvolve.read_tree(tree = re.sub('[[]&R[]] ', '', sim_trees[tree].as_string('newick')))\n",
      "    gy_evolver = pyvolve.Evolver(partitions = gy_partition, tree = tr)\n",
      "    gy_evolver(seqfile = 'sim_codon_'+str(tree+1)+'.fasta', seqfmt = 'fasta')\n",
      "    # Make nexus copy\n",
      "    s_dat = dendropy.DnaCharacterMatrix.get_from_path('sim_codon_'+str(tree+1)+'.fasta', 'fasta')\n",
      "    s_dat.write_to_path('sim_codon_'+str(tree+1)+'.phy', 'phylip')"
     ],
     "language": "python",
     "metadata": {},
     "outputs": [],
     "prompt_number": 64
    },
    {
     "cell_type": "markdown",
     "metadata": {},
     "source": [
      "- Simulate gtr+g for sequence lengths of 990"
     ]
    },
    {
     "cell_type": "code",
     "collapsed": false,
     "input": [
      "custom_mu = {\"AC\":2.21506, \"AG\":4.60638, \"AT\":1.20487, \"CG\":0.68210, \"CT\":11.64502, \"GT\":1.00000}\n",
      "freqs = [0.25, 0.20, 0.3, 0.25]\n",
      "gtr_model = pyvolve.Model('nucleotide', {'mu':custom_mu, 'state_freqs':freqs}, alpha = 0.378, num_categories = 4)\n",
      "gtr_partition = pyvolve.Partition(models = gtr_model, size = 990)\n",
      "\n",
      "for tree in range(10):\n",
      "    tr = pyvolve.read_tree(tree = re.sub('[[]&R[]] ', '', sim_trees[tree].as_string('newick')))\n",
      "    gtr_evolver = pyvolve.Evolver(partitions = gtr_partition, tree = tr)\n",
      "    gtr_evolver(seqfile = 'sim_gtrg_'+str(tree+1)+'.fasta', seqfmt = 'fasta')\n",
      "    s_dat = dendropy.DnaCharacterMatrix.get_from_path('sim_gtrg_'+str(tree+1)+'.fasta', 'fasta')\n",
      "    s_dat.write_to_path('sim_gtrg_'+str(tree+1)+'.nexus', 'nexus')\n",
      "    s_dat.write_to_path('sim_gtrg_'+str(tree+1)+'.phy', 'phylip')"
     ],
     "language": "python",
     "metadata": {},
     "outputs": [],
     "prompt_number": 65
    },
    {
     "cell_type": "code",
     "collapsed": false,
     "input": [],
     "language": "python",
     "metadata": {},
     "outputs": [],
     "prompt_number": 57
    },
    {
     "cell_type": "code",
     "collapsed": false,
     "input": [],
     "language": "python",
     "metadata": {},
     "outputs": [],
     "prompt_number": 57
    },
    {
     "cell_type": "code",
     "collapsed": false,
     "input": [],
     "language": "python",
     "metadata": {},
     "outputs": [],
     "prompt_number": 43
    },
    {
     "cell_type": "code",
     "collapsed": false,
     "input": [],
     "language": "python",
     "metadata": {},
     "outputs": []
    }
   ],
   "metadata": {}
  }
 ]
}