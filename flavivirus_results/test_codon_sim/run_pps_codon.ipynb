{
 "metadata": {
  "name": "",
  "signature": "sha256:91cf30d415d4325687c761537635f4a7c6e5fd8c34806d567d475f0caa84d596"
 },
 "nbformat": 3,
 "nbformat_minor": 0,
 "worksheets": [
  {
   "cells": [
    {
     "cell_type": "code",
     "collapsed": false,
     "input": [
      "import pandas as pd\n",
      "import numpy as np\n",
      "import dendropy as dp\n",
      "import re, os\n",
      "import pyvolve\n",
      "execfile('sim_funs.py')\n",
      "import matplotlib.pyplot as plt\n",
      "import matplotlib.pylab as pylab\n",
      "%pylab inline\n",
      "pylab.rcParams['figure.figsize'] = 20, 5"
     ],
     "language": "python",
     "metadata": {},
     "outputs": [
      {
       "output_type": "stream",
       "stream": "stdout",
       "text": [
        "Populating the interactive namespace from numpy and matplotlib\n"
       ]
      }
     ],
     "prompt_number": 19
    },
    {
     "cell_type": "code",
     "collapsed": false,
     "input": [
      "mb_codon_files = [i for i in os.listdir('mb_codon/') if len(re.findall('sim_codon.+nexus$', i)) > 0]\n",
      "print mb_codon_files\n",
      "\n",
      "results_mat = np.empty(shape = (10, 4))"
     ],
     "language": "python",
     "metadata": {},
     "outputs": [
      {
       "output_type": "stream",
       "stream": "stdout",
       "text": [
        "['sim_codon_1.nexus', 'sim_codon_10.nexus', 'sim_codon_2.nexus', 'sim_codon_3.nexus', 'sim_codon_4.nexus', 'sim_codon_5.nexus', 'sim_codon_6.nexus', 'sim_codon_7.nexus', 'sim_codon_8.nexus', 'sim_codon_9.nexus']\n"
       ]
      }
     ],
     "prompt_number": 20
    },
    {
     "cell_type": "code",
     "collapsed": false,
     "input": [
      "for rep in range(len(mb_codon_files)):\n",
      "    print 'processing '+mb_codon_files[rep]\n",
      "    params_file = pd.read_csv('mb_codon/'+mb_codon_files[rep]+'.run1.p', skiprows=1, sep = '\\t')\n",
      "    sampled_lines = np.random.uniform(size = params_file.shape[0]).argsort()[:100]\n",
      "    trees_file = dp.TreeList.get_from_path('mb_codon/'+mb_codon_files[rep]+'.run1.t', 'nexus')\n",
      "    emp_data = fasta_to_matrix(re.sub('nexus', 'fasta', mb_codon_files[rep]))\n",
      "\n",
      "\n",
      "    trees_list = list()\n",
      "\n",
      "    for i in trees_file:\n",
      "        tree_text = re.sub('[[]&U[]]', '', i.as_string('newick'))\n",
      "        trees_list.append(tree_text)\n",
      "    \n",
      "    sampled_trees = [trees_list[t] for t in sampled_lines]\n",
      "\n",
      "    sampled_lines = np.random.uniform(size = params_file.shape[0]).argsort()[:100]\n",
      "    sampled_params = params_file.ix[sampled_lines, :]\n",
      "    sampled_params.index = [i for i in range(sampled_params.shape[0])]\n",
      "\n",
      "    nsites = len(emp_dat[0])\n",
      "\n",
      "    mliks = list()\n",
      "    chis = list()\n",
      "\n",
      "    for i in range(sampled_params.shape[0]):\n",
      "        params_temp = get_params_codons(sampled_params, i)\n",
      "        sim_temp = sim_codon(params_temp[0], params_temp[1], fix_tree(sampled_trees[i]), nsites)\n",
      "        mliks.append(multlik(sim_temp))\n",
      "        chis.append(chisq(sim_temp))\n",
      "    \n",
      "        if i % 10 == 0:\n",
      "            print i, mliks[i], chis[i]\n",
      "        \n",
      "    results_mat[rep, 0] =  sum(multlik(emp_data) > np.array(mliks)) /100.\n",
      "    results_mat[rep, 1] = sum(chisq(emp_data) > np.array(chis)) / 100.\n",
      "    tree_file = re.sub('_codon', '', re.sub('nexus', 'tre', mb_codon_files[rep]))\n",
      "    results_mat[rep, [2, 3]] = find_tree(tree_file, 'mb_codon/'+mb_codon_files[rep]+'.run1.t')\n",
      "    print results_mat\n",
      "    print multlik(emp_data)"
     ],
     "language": "python",
     "metadata": {},
     "outputs": [
      {
       "output_type": "stream",
       "stream": "stdout",
       "text": [
        "processing sim_codon_1.nexus\n",
        "0"
       ]
      },
      {
       "output_type": "stream",
       "stream": "stdout",
       "text": [
        " -5268.63357299 15.3535266061\n",
        "10"
       ]
      },
      {
       "output_type": "stream",
       "stream": "stdout",
       "text": [
        " -5409.97535686 7.87126245069\n",
        "20"
       ]
      },
      {
       "output_type": "stream",
       "stream": "stdout",
       "text": [
        " -5148.93784163 7.58829245936\n",
        "30"
       ]
      },
      {
       "output_type": "stream",
       "stream": "stdout",
       "text": [
        " -5319.71703074 11.7087659311\n",
        "40"
       ]
      },
      {
       "output_type": "stream",
       "stream": "stdout",
       "text": [
        " -5286.63132082 19.8446294239\n",
        "50"
       ]
      },
      {
       "output_type": "stream",
       "stream": "stdout",
       "text": [
        " -5387.38656439 11.5971090137\n",
        "60"
       ]
      },
      {
       "output_type": "stream",
       "stream": "stdout",
       "text": [
        " -5144.81984845 8.11826642056\n",
        "70"
       ]
      },
      {
       "output_type": "stream",
       "stream": "stdout",
       "text": [
        " -5331.24965095 10.8539802584\n",
        "80"
       ]
      },
      {
       "output_type": "stream",
       "stream": "stdout",
       "text": [
        " -5249.61960682 6.59412306993\n",
        "90"
       ]
      },
      {
       "output_type": "stream",
       "stream": "stdout",
       "text": [
        " -5302.30411418 15.3774529151\n",
        "[[  2.90000000e-01   3.80000000e-01   1.00000000e+00   9.38822000e-02]\n",
        " [  2.19000000e+02   2.66000000e+02   2.36000000e+02   2.69000000e+02]\n",
        " [  2.18000000e+02   2.63000000e+02   2.35000000e+02   2.74000000e+02]\n",
        " [  2.26000000e+02   2.44000000e+02   2.55000000e+02   2.65000000e+02]\n",
        " [  2.44000000e+02   2.48000000e+02   2.31000000e+02   2.67000000e+02]\n",
        " [  2.36000000e+02   2.43000000e+02   2.48000000e+02   2.63000000e+02]\n",
        " [  2.33000000e+02   2.44000000e+02   2.50000000e+02   2.63000000e+02]\n",
        " [  2.55000000e+02   2.55000000e+02   2.27000000e+02   2.53000000e+02]\n",
        " [  2.31000000e+02   2.57000000e+02   2.26000000e+02   2.76000000e+02]\n",
        " [  2.35000000e+02   2.58000000e+02   2.29000000e+02   2.68000000e+02]]"
       ]
      },
      {
       "output_type": "stream",
       "stream": "stdout",
       "text": [
        "\n",
        "-5327.79067425\n",
        "processing sim_codon_10.nexus\n",
        "0"
       ]
      },
      {
       "output_type": "stream",
       "stream": "stdout",
       "text": [
        " -5581.63216862 17.617783502\n",
        "10"
       ]
      },
      {
       "output_type": "stream",
       "stream": "stdout",
       "text": [
        " -5380.30893768 11.8657153219\n",
        "20"
       ]
      },
      {
       "output_type": "stream",
       "stream": "stdout",
       "text": [
        " -5386.05136449 7.05403182598\n",
        "30"
       ]
      },
      {
       "output_type": "stream",
       "stream": "stdout",
       "text": [
        " -2950.82635238 5.30138321218\n",
        "40"
       ]
      },
      {
       "output_type": "stream",
       "stream": "stdout",
       "text": [
        " -5440.88983204 7.05100739296\n",
        "50"
       ]
      },
      {
       "output_type": "stream",
       "stream": "stdout",
       "text": [
        " -5463.52558624 9.37503100792\n",
        "60"
       ]
      },
      {
       "output_type": "stream",
       "stream": "stdout",
       "text": [
        " -5573.26331201 12.2712349929\n",
        "70"
       ]
      },
      {
       "output_type": "stream",
       "stream": "stdout",
       "text": [
        " -5539.10174103 9.88829348409\n",
        "80"
       ]
      },
      {
       "output_type": "stream",
       "stream": "stdout",
       "text": [
        " -5410.27226404 14.0374966929\n",
        "90"
       ]
      },
      {
       "output_type": "stream",
       "stream": "stdout",
       "text": [
        " -5518.73433877 7.52545220724\n",
        "[[  2.90000000e-01   3.80000000e-01   1.00000000e+00   9.38822000e-02]\n",
        " [  5.40000000e-01   1.30000000e-01   1.00000000e+00   5.09435335e-02]\n",
        " [  2.18000000e+02   2.63000000e+02   2.35000000e+02   2.74000000e+02]\n",
        " [  2.26000000e+02   2.44000000e+02   2.55000000e+02   2.65000000e+02]\n",
        " [  2.44000000e+02   2.48000000e+02   2.31000000e+02   2.67000000e+02]\n",
        " [  2.36000000e+02   2.43000000e+02   2.48000000e+02   2.63000000e+02]\n",
        " [  2.33000000e+02   2.44000000e+02   2.50000000e+02   2.63000000e+02]\n",
        " [  2.55000000e+02   2.55000000e+02   2.27000000e+02   2.53000000e+02]\n",
        " [  2.31000000e+02   2.57000000e+02   2.26000000e+02   2.76000000e+02]\n",
        " [  2.35000000e+02   2.58000000e+02   2.29000000e+02   2.68000000e+02]]"
       ]
      },
      {
       "output_type": "stream",
       "stream": "stdout",
       "text": [
        "\n",
        "-5455.92635349\n",
        "processing sim_codon_2.nexus\n",
        "0"
       ]
      },
      {
       "output_type": "stream",
       "stream": "stdout",
       "text": [
        " -5707.32484209 12.6520300324\n",
        "10"
       ]
      },
      {
       "output_type": "stream",
       "stream": "stdout",
       "text": [
        " -5655.23021721 11.5742023349\n",
        "20"
       ]
      },
      {
       "output_type": "stream",
       "stream": "stdout",
       "text": [
        " -5631.47629301 6.29977199881\n",
        "30"
       ]
      },
      {
       "output_type": "stream",
       "stream": "stdout",
       "text": [
        " -5521.05183325 13.2592093085\n",
        "40"
       ]
      },
      {
       "output_type": "stream",
       "stream": "stdout",
       "text": [
        " -5445.11671858 21.8847698491\n",
        "50"
       ]
      },
      {
       "output_type": "stream",
       "stream": "stdout",
       "text": [
        " -5786.61567942 7.83902523368\n",
        "60"
       ]
      },
      {
       "output_type": "stream",
       "stream": "stdout",
       "text": [
        " -5597.28310936 26.9459517929\n",
        "70"
       ]
      },
      {
       "output_type": "stream",
       "stream": "stdout",
       "text": [
        " -5744.43107484 14.2116932249\n",
        "80"
       ]
      },
      {
       "output_type": "stream",
       "stream": "stdout",
       "text": [
        " -5736.56050374 15.6861568326\n",
        "90"
       ]
      },
      {
       "output_type": "stream",
       "stream": "stdout",
       "text": [
        " -5667.83221633 8.13826705887\n",
        "[[  2.90000000e-01   3.80000000e-01   1.00000000e+00   9.38822000e-02]\n",
        " [  5.40000000e-01   1.30000000e-01   1.00000000e+00   5.09435335e-02]\n",
        " [  2.00000000e-01   7.50000000e-01   1.00000000e+00   2.24710745e-03]\n",
        " [  2.26000000e+02   2.44000000e+02   2.55000000e+02   2.65000000e+02]\n",
        " [  2.44000000e+02   2.48000000e+02   2.31000000e+02   2.67000000e+02]\n",
        " [  2.36000000e+02   2.43000000e+02   2.48000000e+02   2.63000000e+02]\n",
        " [  2.33000000e+02   2.44000000e+02   2.50000000e+02   2.63000000e+02]\n",
        " [  2.55000000e+02   2.55000000e+02   2.27000000e+02   2.53000000e+02]\n",
        " [  2.31000000e+02   2.57000000e+02   2.26000000e+02   2.76000000e+02]\n",
        " [  2.35000000e+02   2.58000000e+02   2.29000000e+02   2.68000000e+02]]"
       ]
      },
      {
       "output_type": "stream",
       "stream": "stdout",
       "text": [
        "\n",
        "-5751.12173268\n",
        "processing sim_codon_3.nexus\n",
        "0"
       ]
      },
      {
       "output_type": "stream",
       "stream": "stdout",
       "text": [
        " -5478.3286081 15.7109010683\n",
        "10"
       ]
      },
      {
       "output_type": "stream",
       "stream": "stdout",
       "text": [
        " -5584.54703803 7.74150081852\n",
        "20"
       ]
      },
      {
       "output_type": "stream",
       "stream": "stdout",
       "text": [
        " -5545.97594672 12.669647741\n",
        "30"
       ]
      },
      {
       "output_type": "stream",
       "stream": "stdout",
       "text": [
        " -5627.9636718 12.3885501663\n",
        "40"
       ]
      },
      {
       "output_type": "stream",
       "stream": "stdout",
       "text": [
        " -5563.66998904 5.71018450961\n",
        "50"
       ]
      },
      {
       "output_type": "stream",
       "stream": "stdout",
       "text": [
        " -5710.06162793 12.4347060378\n",
        "60"
       ]
      },
      {
       "output_type": "stream",
       "stream": "stdout",
       "text": [
        " -5642.71230198 13.9774782999\n",
        "70"
       ]
      },
      {
       "output_type": "stream",
       "stream": "stdout",
       "text": [
        " -5695.93675682 14.6330082617\n",
        "80"
       ]
      },
      {
       "output_type": "stream",
       "stream": "stdout",
       "text": [
        " -5627.07066904 13.1048025303\n",
        "90"
       ]
      },
      {
       "output_type": "stream",
       "stream": "stdout",
       "text": [
        " -5639.66936939 19.13797927\n",
        "[[  2.90000000e-01   3.80000000e-01   1.00000000e+00   9.38822000e-02]\n",
        " [  5.40000000e-01   1.30000000e-01   1.00000000e+00   5.09435335e-02]\n",
        " [  2.00000000e-01   7.50000000e-01   1.00000000e+00   2.24710745e-03]\n",
        " [  6.90000000e-01   3.40000000e-01   1.00000000e+00   5.07080962e-02]\n",
        " [  2.44000000e+02   2.48000000e+02   2.31000000e+02   2.67000000e+02]\n",
        " [  2.36000000e+02   2.43000000e+02   2.48000000e+02   2.63000000e+02]\n",
        " [  2.33000000e+02   2.44000000e+02   2.50000000e+02   2.63000000e+02]\n",
        " [  2.55000000e+02   2.55000000e+02   2.27000000e+02   2.53000000e+02]\n",
        " [  2.31000000e+02   2.57000000e+02   2.26000000e+02   2.76000000e+02]\n",
        " [  2.35000000e+02   2.58000000e+02   2.29000000e+02   2.68000000e+02]]"
       ]
      },
      {
       "output_type": "stream",
       "stream": "stdout",
       "text": [
        "\n",
        "-5604.07726584\n",
        "processing sim_codon_4.nexus\n",
        "0"
       ]
      },
      {
       "output_type": "stream",
       "stream": "stdout",
       "text": [
        " -5453.02550142 9.14334125245\n",
        "10"
       ]
      },
      {
       "output_type": "stream",
       "stream": "stdout",
       "text": [
        " -5313.90227323 8.72229828349\n",
        "20"
       ]
      },
      {
       "output_type": "stream",
       "stream": "stdout",
       "text": [
        " -5339.87872609 14.1701640984\n",
        "30"
       ]
      },
      {
       "output_type": "stream",
       "stream": "stdout",
       "text": [
        " -5526.50333492 11.1900537233\n",
        "40"
       ]
      },
      {
       "output_type": "stream",
       "stream": "stdout",
       "text": [
        " -5434.75831931 16.3526779629\n",
        "50"
       ]
      },
      {
       "output_type": "stream",
       "stream": "stdout",
       "text": [
        " -5536.05265547 12.469962503\n",
        "60"
       ]
      },
      {
       "output_type": "stream",
       "stream": "stdout",
       "text": [
        " -5269.64028464 8.90147064095\n",
        "70"
       ]
      },
      {
       "output_type": "stream",
       "stream": "stdout",
       "text": [
        " -5439.4456245 8.48776851543\n",
        "80"
       ]
      },
      {
       "output_type": "stream",
       "stream": "stdout",
       "text": [
        " -5450.88584589 8.64768474335\n",
        "90"
       ]
      },
      {
       "output_type": "stream",
       "stream": "stdout",
       "text": [
        " -5476.88437139 5.47695991746\n",
        "[[  2.90000000e-01   3.80000000e-01   1.00000000e+00   9.38822000e-02]\n",
        " [  5.40000000e-01   1.30000000e-01   1.00000000e+00   5.09435335e-02]\n",
        " [  2.00000000e-01   7.50000000e-01   1.00000000e+00   2.24710745e-03]\n",
        " [  6.90000000e-01   3.40000000e-01   1.00000000e+00   5.07080962e-02]\n",
        " [  4.60000000e-01   9.70000000e-01   1.00000000e+00   9.57127681e-02]\n",
        " [  2.36000000e+02   2.43000000e+02   2.48000000e+02   2.63000000e+02]\n",
        " [  2.33000000e+02   2.44000000e+02   2.50000000e+02   2.63000000e+02]\n",
        " [  2.55000000e+02   2.55000000e+02   2.27000000e+02   2.53000000e+02]\n",
        " [  2.31000000e+02   2.57000000e+02   2.26000000e+02   2.76000000e+02]\n",
        " [  2.35000000e+02   2.58000000e+02   2.29000000e+02   2.68000000e+02]]"
       ]
      },
      {
       "output_type": "stream",
       "stream": "stdout",
       "text": [
        "\n",
        "-5407.35563632\n",
        "processing sim_codon_5.nexus\n",
        "0"
       ]
      },
      {
       "output_type": "stream",
       "stream": "stdout",
       "text": [
        " -5180.89657541 4.97743534105\n",
        "10"
       ]
      },
      {
       "output_type": "stream",
       "stream": "stdout",
       "text": [
        " -5178.92852285 12.440176733\n",
        "20"
       ]
      },
      {
       "output_type": "stream",
       "stream": "stdout",
       "text": [
        " -5111.19589189 11.0628166432\n",
        "30"
       ]
      },
      {
       "output_type": "stream",
       "stream": "stdout",
       "text": [
        " -5154.05241236 9.28800310664\n",
        "40"
       ]
      },
      {
       "output_type": "stream",
       "stream": "stdout",
       "text": [
        " -5252.1787724 25.4672745976\n",
        "50"
       ]
      },
      {
       "output_type": "stream",
       "stream": "stdout",
       "text": [
        " -5239.2129014 5.59478162406\n",
        "60"
       ]
      },
      {
       "output_type": "stream",
       "stream": "stdout",
       "text": [
        " -5078.77949416 5.15274688744\n",
        "70"
       ]
      },
      {
       "output_type": "stream",
       "stream": "stdout",
       "text": [
        " -5160.88803782 6.50128571124\n",
        "80"
       ]
      },
      {
       "output_type": "stream",
       "stream": "stdout",
       "text": [
        " -5254.23538188 15.8884077195\n",
        "90"
       ]
      },
      {
       "output_type": "stream",
       "stream": "stdout",
       "text": [
        " -5313.20662117 22.1264064402\n",
        "[[  2.90000000e-01   3.80000000e-01   1.00000000e+00   9.38822000e-02]\n",
        " [  5.40000000e-01   1.30000000e-01   1.00000000e+00   5.09435335e-02]\n",
        " [  2.00000000e-01   7.50000000e-01   1.00000000e+00   2.24710745e-03]\n",
        " [  6.90000000e-01   3.40000000e-01   1.00000000e+00   5.07080962e-02]\n",
        " [  4.60000000e-01   9.70000000e-01   1.00000000e+00   9.57127681e-02]\n",
        " [  0.00000000e+00   8.20000000e-01   1.00000000e+00   3.13182685e-02]\n",
        " [  2.33000000e+02   2.44000000e+02   2.50000000e+02   2.63000000e+02]\n",
        " [  2.55000000e+02   2.55000000e+02   2.27000000e+02   2.53000000e+02]\n",
        " [  2.31000000e+02   2.57000000e+02   2.26000000e+02   2.76000000e+02]\n",
        " [  2.35000000e+02   2.58000000e+02   2.29000000e+02   2.68000000e+02]]"
       ]
      },
      {
       "output_type": "stream",
       "stream": "stdout",
       "text": [
        "\n",
        "-5540.63975245\n",
        "processing sim_codon_6.nexus\n",
        "0"
       ]
      },
      {
       "output_type": "stream",
       "stream": "stdout",
       "text": [
        " -5534.2756401 17.2620115253\n",
        "10"
       ]
      },
      {
       "output_type": "stream",
       "stream": "stdout",
       "text": [
        " -5383.3874966 6.78058361209\n",
        "20"
       ]
      },
      {
       "output_type": "stream",
       "stream": "stdout",
       "text": [
        " -5534.41593759 15.3588926908\n",
        "30"
       ]
      },
      {
       "output_type": "stream",
       "stream": "stdout",
       "text": [
        " -5558.49636895 16.9929475534\n",
        "40"
       ]
      },
      {
       "output_type": "stream",
       "stream": "stdout",
       "text": [
        " -5774.56292785 12.3400532815\n",
        "50"
       ]
      },
      {
       "output_type": "stream",
       "stream": "stdout",
       "text": [
        " -5555.58099251 7.55027763693\n",
        "60"
       ]
      },
      {
       "output_type": "stream",
       "stream": "stdout",
       "text": [
        " -5644.73979837 13.7968009619\n",
        "70"
       ]
      },
      {
       "output_type": "stream",
       "stream": "stdout",
       "text": [
        " -5731.02153202 5.98000871242\n",
        "80"
       ]
      },
      {
       "output_type": "stream",
       "stream": "stdout",
       "text": [
        " -5543.44936218 13.7942565767\n",
        "90"
       ]
      },
      {
       "output_type": "stream",
       "stream": "stdout",
       "text": [
        " -5566.66093917 20.0277987788\n",
        "[[  2.90000000e-01   3.80000000e-01   1.00000000e+00   9.38822000e-02]\n",
        " [  5.40000000e-01   1.30000000e-01   1.00000000e+00   5.09435335e-02]\n",
        " [  2.00000000e-01   7.50000000e-01   1.00000000e+00   2.24710745e-03]\n",
        " [  6.90000000e-01   3.40000000e-01   1.00000000e+00   5.07080962e-02]\n",
        " [  4.60000000e-01   9.70000000e-01   1.00000000e+00   9.57127681e-02]\n",
        " [  0.00000000e+00   8.20000000e-01   1.00000000e+00   3.13182685e-02]\n",
        " [  3.00000000e-01   0.00000000e+00   1.00000000e+00   1.19116636e-01]\n",
        " [  2.55000000e+02   2.55000000e+02   2.27000000e+02   2.53000000e+02]\n",
        " [  2.31000000e+02   2.57000000e+02   2.26000000e+02   2.76000000e+02]\n",
        " [  2.35000000e+02   2.58000000e+02   2.29000000e+02   2.68000000e+02]]"
       ]
      },
      {
       "output_type": "stream",
       "stream": "stdout",
       "text": [
        "\n",
        "-5644.35396482\n",
        "processing sim_codon_7.nexus\n",
        "0"
       ]
      },
      {
       "output_type": "stream",
       "stream": "stdout",
       "text": [
        " -5280.65237309 9.5819838647\n",
        "10"
       ]
      },
      {
       "output_type": "stream",
       "stream": "stdout",
       "text": [
        " -5367.83797962 7.63248854907\n",
        "20"
       ]
      },
      {
       "output_type": "stream",
       "stream": "stdout",
       "text": [
        " -5424.30185209 27.9528809695\n",
        "30"
       ]
      },
      {
       "output_type": "stream",
       "stream": "stdout",
       "text": [
        " -5179.91737752 8.11615446622\n",
        "40"
       ]
      },
      {
       "output_type": "stream",
       "stream": "stdout",
       "text": [
        " -5442.96992304 15.4988609686\n",
        "50"
       ]
      },
      {
       "output_type": "stream",
       "stream": "stdout",
       "text": [
        " -5257.22991448 5.20332501821\n",
        "60"
       ]
      },
      {
       "output_type": "stream",
       "stream": "stdout",
       "text": [
        " -5396.58230931 5.9229247738\n",
        "70"
       ]
      },
      {
       "output_type": "stream",
       "stream": "stdout",
       "text": [
        " -5217.45145673 9.0859099032\n",
        "80"
       ]
      },
      {
       "output_type": "stream",
       "stream": "stdout",
       "text": [
        " -5377.81159323 13.5410029769\n",
        "90"
       ]
      },
      {
       "output_type": "stream",
       "stream": "stdout",
       "text": [
        " -5403.37953171 17.2809520305\n",
        "[[  2.90000000e-01   3.80000000e-01   1.00000000e+00   9.38822000e-02]\n",
        " [  5.40000000e-01   1.30000000e-01   1.00000000e+00   5.09435335e-02]\n",
        " [  2.00000000e-01   7.50000000e-01   1.00000000e+00   2.24710745e-03]\n",
        " [  6.90000000e-01   3.40000000e-01   1.00000000e+00   5.07080962e-02]\n",
        " [  4.60000000e-01   9.70000000e-01   1.00000000e+00   9.57127681e-02]\n",
        " [  0.00000000e+00   8.20000000e-01   1.00000000e+00   3.13182685e-02]\n",
        " [  3.00000000e-01   0.00000000e+00   1.00000000e+00   1.19116636e-01]\n",
        " [  1.40000000e-01   9.70000000e-01   1.00000000e+00   6.20772697e-02]\n",
        " [  2.31000000e+02   2.57000000e+02   2.26000000e+02   2.76000000e+02]\n",
        " [  2.35000000e+02   2.58000000e+02   2.29000000e+02   2.68000000e+02]]"
       ]
      },
      {
       "output_type": "stream",
       "stream": "stdout",
       "text": [
        "\n",
        "-5441.25236191\n",
        "processing sim_codon_8.nexus\n",
        "0"
       ]
      },
      {
       "output_type": "stream",
       "stream": "stdout",
       "text": [
        " -5498.00744829 27.6273396142\n",
        "10"
       ]
      },
      {
       "output_type": "stream",
       "stream": "stdout",
       "text": [
        " -5644.05957279 18.6175143797\n",
        "20"
       ]
      },
      {
       "output_type": "stream",
       "stream": "stdout",
       "text": [
        " -5615.00540693 12.932298182\n",
        "30"
       ]
      },
      {
       "output_type": "stream",
       "stream": "stdout",
       "text": [
        " -5524.21430843 14.8294391891\n",
        "40"
       ]
      },
      {
       "output_type": "stream",
       "stream": "stdout",
       "text": [
        " -5347.5202967 17.6729128622\n",
        "50"
       ]
      },
      {
       "output_type": "stream",
       "stream": "stdout",
       "text": [
        " -5562.15182312 9.41174494222\n",
        "60"
       ]
      },
      {
       "output_type": "stream",
       "stream": "stdout",
       "text": [
        " -5563.88912638 8.68535624449\n",
        "70"
       ]
      },
      {
       "output_type": "stream",
       "stream": "stdout",
       "text": [
        " -5407.39114765 24.687022501\n",
        "80"
       ]
      },
      {
       "output_type": "stream",
       "stream": "stdout",
       "text": [
        " -5595.0349833 10.137994635\n",
        "90"
       ]
      },
      {
       "output_type": "stream",
       "stream": "stdout",
       "text": [
        " -5381.01860924 13.8838989245\n",
        "[[  2.90000000e-01   3.80000000e-01   1.00000000e+00   9.38822000e-02]\n",
        " [  5.40000000e-01   1.30000000e-01   1.00000000e+00   5.09435335e-02]\n",
        " [  2.00000000e-01   7.50000000e-01   1.00000000e+00   2.24710745e-03]\n",
        " [  6.90000000e-01   3.40000000e-01   1.00000000e+00   5.07080962e-02]\n",
        " [  4.60000000e-01   9.70000000e-01   1.00000000e+00   9.57127681e-02]\n",
        " [  0.00000000e+00   8.20000000e-01   1.00000000e+00   3.13182685e-02]\n",
        " [  3.00000000e-01   0.00000000e+00   1.00000000e+00   1.19116636e-01]\n",
        " [  1.40000000e-01   9.70000000e-01   1.00000000e+00   6.20772697e-02]\n",
        " [  5.30000000e-01   2.20000000e-01   1.00000000e+00   6.20444327e-02]\n",
        " [  2.35000000e+02   2.58000000e+02   2.29000000e+02   2.68000000e+02]]"
       ]
      },
      {
       "output_type": "stream",
       "stream": "stdout",
       "text": [
        "\n",
        "-5556.49070964\n",
        "processing sim_codon_9.nexus\n",
        "0"
       ]
      },
      {
       "output_type": "stream",
       "stream": "stdout",
       "text": [
        " -5193.10310476 16.5261065203\n",
        "10"
       ]
      },
      {
       "output_type": "stream",
       "stream": "stdout",
       "text": [
        " -5380.83049188 6.65512428394\n",
        "20"
       ]
      },
      {
       "output_type": "stream",
       "stream": "stdout",
       "text": [
        " -5260.52081634 10.8357643614\n",
        "30"
       ]
      },
      {
       "output_type": "stream",
       "stream": "stdout",
       "text": [
        " -5381.43144285 12.9255150374\n",
        "40"
       ]
      },
      {
       "output_type": "stream",
       "stream": "stdout",
       "text": [
        " -5294.0423359 16.6148836622\n",
        "50"
       ]
      },
      {
       "output_type": "stream",
       "stream": "stdout",
       "text": [
        " -5280.61450718 16.1347743634\n",
        "60"
       ]
      },
      {
       "output_type": "stream",
       "stream": "stdout",
       "text": [
        " -5380.17411675 11.1561896385\n",
        "70"
       ]
      },
      {
       "output_type": "stream",
       "stream": "stdout",
       "text": [
        " -5315.50004073 6.94428966504\n",
        "80"
       ]
      },
      {
       "output_type": "stream",
       "stream": "stdout",
       "text": [
        " -5464.58945503 30.6292388891\n",
        "90"
       ]
      },
      {
       "output_type": "stream",
       "stream": "stdout",
       "text": [
        " -5306.75441761 15.6770237635\n",
        "[[ 0.29        0.38        1.          0.0938822 ]\n",
        " [ 0.54        0.13        1.          0.05094353]\n",
        " [ 0.2         0.75        1.          0.00224711]\n",
        " [ 0.69        0.34        1.          0.0507081 ]\n",
        " [ 0.46        0.97        1.          0.09571277]\n",
        " [ 0.          0.82        1.          0.03131827]\n",
        " [ 0.3         0.          1.          0.11911664]\n",
        " [ 0.14        0.97        1.          0.06207727]\n",
        " [ 0.53        0.22        1.          0.06204443]\n",
        " [ 0.76        0.62        1.          0.07157258]]"
       ]
      },
      {
       "output_type": "stream",
       "stream": "stdout",
       "text": [
        "\n",
        "-5293.61227237\n"
       ]
      }
     ],
     "prompt_number": 21
    },
    {
     "cell_type": "code",
     "collapsed": false,
     "input": [
      "results_frame = pd.DataFrame(results_mat)\n",
      "results_frame.columns = ['mlik', 'chi2', 'tree_found', 'percent_TL']\n",
      "results_frame.head()\n",
      "results_frame.to_csv('sim_codon_results.csv')"
     ],
     "language": "python",
     "metadata": {},
     "outputs": [],
     "prompt_number": 28
    },
    {
     "cell_type": "code",
     "collapsed": false,
     "input": [],
     "language": "python",
     "metadata": {},
     "outputs": []
    }
   ],
   "metadata": {}
  }
 ]
}