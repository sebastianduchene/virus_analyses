{
 "metadata": {
  "name": "",
  "signature": "sha256:18626b7a3ff9b56484f755a7db05db252e25266ec0714692ffe68b82a15276ff"
 },
 "nbformat": 3,
 "nbformat_minor": 0,
 "worksheets": [
  {
   "cells": [
    {
     "cell_type": "code",
     "collapsed": false,
     "input": [
      "import re, os"
     ],
     "language": "python",
     "metadata": {},
     "outputs": [],
     "prompt_number": 5
    },
    {
     "cell_type": "code",
     "collapsed": false,
     "input": [
      "nexus_files = [i for i in os.listdir('.') if len(re.findall('nexus$', i)) > 0]\n",
      "print os.getcwdu()"
     ],
     "language": "python",
     "metadata": {},
     "outputs": [
      {
       "output_type": "stream",
       "stream": "stdout",
       "text": [
        "/Users/sebastianducheneAIr/Desktop/sandbox/virus_analyses/flavivirus_results/test_codon_sim/mb_gtrg\n"
       ]
      }
     ],
     "prompt_number": 9
    },
    {
     "cell_type": "code",
     "collapsed": false,
     "input": [
      "print nexus_files\n",
      "run_block = '''\n",
      "begin mrbayes;\n",
      "lset nst = 6 Rates = Gamma;\n",
      "mcmcp ngen= 5000000 printfreq = 100;\n",
      "mcmc;\n",
      "end;\n",
      "'''"
     ],
     "language": "python",
     "metadata": {},
     "outputs": [
      {
       "output_type": "stream",
       "stream": "stdout",
       "text": [
        "['sim_codon_1.nexus', 'sim_codon_10.nexus', 'sim_codon_2.nexus', 'sim_codon_3.nexus', 'sim_codon_4.nexus', 'sim_codon_5.nexus', 'sim_codon_6.nexus', 'sim_codon_7.nexus', 'sim_codon_8.nexus', 'sim_codon_9.nexus']\n"
       ]
      }
     ],
     "prompt_number": 10
    },
    {
     "cell_type": "code",
     "collapsed": false,
     "input": [
      "for f in nexus_files:\n",
      "    f_temp = open(f, 'r').readlines()\n",
      "    f_temp.append(run_block)\n",
      "    open(f, 'w').writelines(f_temp)"
     ],
     "language": "python",
     "metadata": {},
     "outputs": [],
     "prompt_number": 11
    },
    {
     "cell_type": "code",
     "collapsed": false,
     "input": [],
     "language": "python",
     "metadata": {},
     "outputs": []
    }
   ],
   "metadata": {}
  }
 ]
}