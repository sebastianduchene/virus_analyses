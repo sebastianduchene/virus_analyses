{
 "metadata": {
  "name": "",
  "signature": "sha256:80bd170dc9e6c9b76af01c277103d98fa5098ba2d579d70d684aa51983e47565"
 },
 "nbformat": 3,
 "nbformat_minor": 0,
 "worksheets": [
  {
   "cells": [
    {
     "cell_type": "code",
     "collapsed": false,
     "input": [
      "import dendropy as dp\n",
      "import re"
     ],
     "language": "python",
     "metadata": {},
     "outputs": [],
     "prompt_number": 24
    },
    {
     "cell_type": "code",
     "collapsed": false,
     "input": [
      "def find_tree(target_tree, tree_list, sch1 = 'newick', sch2 = 'nexus'):\n",
      "    '''\n",
      "    Note that target_tree and tree_list must\n",
      "    '''\n",
      "    import dendropy as dp\n",
      "    tr = dp.Tree.get_from_path(target_tree, schema = sch1, rooting = 'force-unrooted')\n",
      "    tr.update_bipartitions()    \n",
      "    trs = dp.TreeList.get_from_path(tree_list, schema = sch2, taxon_namespace = tr.taxon_namespace, rooting = 'force-unrooted')\n",
      "\n",
      "    for t in trs:\n",
      "        t.update_bipartitions()\n",
      "    \n",
      "    tree_dists = list()\n",
      "    \n",
      "    for t_post in trs:\n",
      "        tree_dists.append(dp.calculate.treecompare.unweighted_robinson_foulds_distance(tr, t_post))\n",
      "        \n",
      "    tree_lens = [t.length() for t in trs]\n",
      "    true_len = tr.length()\n",
      "    \n",
      "    return [any([d == 0 for d in tree_dists]), true_len < max(tree_lens) and true_len > min(tree_lens)]\n",
      "\n",
      "\n",
      "#find_tree('../sim_1.tre', 'sim_codon_1.nexus.run1.t')"
     ],
     "language": "python",
     "metadata": {},
     "outputs": [
      {
       "metadata": {},
       "output_type": "pyout",
       "prompt_number": 138,
       "text": [
        "[True, True]"
       ]
      }
     ],
     "prompt_number": 138
    },
    {
     "cell_type": "code",
     "collapsed": false,
     "input": [
      "#tr = dp.Tree.get_from_path('../sim_1.tre', 'newick', rooting= 'force-unrooted')\n",
      "#trs = dp.TreeList.get_from_path('./sim_codon_1.nexus.run1.t', 'nexus', taxon_namespace = tr.taxon_namespace, rooting = 'force-unrooted')\n",
      "\n"
     ],
     "language": "python",
     "metadata": {},
     "outputs": [],
     "prompt_number": 125
    },
    {
     "cell_type": "code",
     "collapsed": false,
     "input": [
      "t_lens = [t.length() for t in trs]"
     ],
     "language": "python",
     "metadata": {},
     "outputs": [],
     "prompt_number": 127
    },
    {
     "cell_type": "code",
     "collapsed": false,
     "input": [
      "tr.length() < max(t_lens) and tr.length() > min(t_lens)"
     ],
     "language": "python",
     "metadata": {},
     "outputs": [
      {
       "metadata": {},
       "output_type": "pyout",
       "prompt_number": 134,
       "text": [
        "True"
       ]
      }
     ],
     "prompt_number": 134
    },
    {
     "cell_type": "code",
     "collapsed": false,
     "input": [],
     "language": "python",
     "metadata": {},
     "outputs": [],
     "prompt_number": 86
    },
    {
     "cell_type": "code",
     "collapsed": false,
     "input": [],
     "language": "python",
     "metadata": {},
     "outputs": [],
     "prompt_number": 86
    },
    {
     "cell_type": "code",
     "collapsed": false,
     "input": [],
     "language": "python",
     "metadata": {},
     "outputs": []
    }
   ],
   "metadata": {}
  }
 ]
}