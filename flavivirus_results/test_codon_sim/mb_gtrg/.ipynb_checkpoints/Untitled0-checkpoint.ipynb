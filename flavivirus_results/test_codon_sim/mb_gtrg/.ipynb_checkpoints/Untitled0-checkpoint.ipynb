{
 "metadata": {
  "name": "",
  "signature": "sha256:889d396286dc6badd09b275b11636511849b98595cdd1f253149d82e35d1b174"
 },
 "nbformat": 3,
 "nbformat_minor": 0,
 "worksheets": [
  {
   "cells": [
    {
     "cell_type": "code",
     "collapsed": false,
     "input": [
      "import re, os"
     ],
     "language": "python",
     "metadata": {},
     "outputs": [],
     "prompt_number": 2
    },
    {
     "cell_type": "code",
     "collapsed": false,
     "input": [
      "nexus_files = [i for i in os.listdir('.') if len(re.findall('nexus$', i)) > 0]"
     ],
     "language": "python",
     "metadata": {},
     "outputs": [],
     "prompt_number": 3
    },
    {
     "cell_type": "code",
     "collapsed": false,
     "input": [
      "print nexus_files\n",
      "run_block = '''\n",
      "begin mrbayes;\n",
      "lset nst = 6 Rates = Gamma;\n",
      "mcmcp ngen= 5000000 printfreq = 100;\n",
      "mcmc;\n",
      "end;\n",
      "'''"
     ],
     "language": "python",
     "metadata": {},
     "outputs": [
      {
       "output_type": "stream",
       "stream": "stdout",
       "text": [
        "['sim_codon_1.nexus', 'sim_codon_10.nexus', 'sim_codon_2.nexus', 'sim_codon_3.nexus', 'sim_codon_4.nexus', 'sim_codon_5.nexus', 'sim_codon_6.nexus', 'sim_codon_7.nexus', 'sim_codon_8.nexus', 'sim_codon_9.nexus']\n"
       ]
      }
     ],
     "prompt_number": 5
    },
    {
     "cell_type": "code",
     "collapsed": false,
     "input": [
      "for f in nexus_files:\n",
      "    f_temp = open(f, 'r').readlines()\n",
      "    f_temp.append(run_block)\n",
      "    open(f, 'w').writelines(f_temp)"
     ],
     "language": "python",
     "metadata": {},
     "outputs": [],
     "prompt_number": 6
    },
    {
     "cell_type": "code",
     "collapsed": false,
     "input": [],
     "language": "python",
     "metadata": {},
     "outputs": []
    }
   ],
   "metadata": {}
  }
 ]
}