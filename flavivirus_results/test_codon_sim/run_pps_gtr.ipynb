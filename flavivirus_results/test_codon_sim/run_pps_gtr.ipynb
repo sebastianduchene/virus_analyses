{
 "metadata": {
  "name": "",
  "signature": "sha256:539b9021569d1c16f5de749efa774a8220d6ab72ec18d402f2444162f540854e"
 },
 "nbformat": 3,
 "nbformat_minor": 0,
 "worksheets": [
  {
   "cells": [
    {
     "cell_type": "code",
     "collapsed": false,
     "input": [
      "import pandas as pd\n",
      "import numpy as np\n",
      "import dendropy as dp\n",
      "import re, os\n",
      "import pyvolve\n",
      "execfile('sim_funs.py')\n",
      "import matplotlib.pyplot as plt\n",
      "import matplotlib.pylab as pylab\n",
      "%pylab inline\n",
      "pylab.rcParams['figure.figsize'] = 20, 5"
     ],
     "language": "python",
     "metadata": {},
     "outputs": [
      {
       "output_type": "stream",
       "stream": "stdout",
       "text": [
        "Populating the interactive namespace from numpy and matplotlib\n"
       ]
      }
     ],
     "prompt_number": 25
    },
    {
     "cell_type": "markdown",
     "metadata": {},
     "source": [
      "###This should be saved in a table with several rows for the $p$ values of multinomial likleihood and the $\\chi^2$ for each of the ten replicates."
     ]
    },
    {
     "cell_type": "code",
     "collapsed": false,
     "input": [
      "mb_gtr_files = [i for i in os.listdir('./mb_gtrg') if len(re.findall('sim_codon_.+nexus$', i)) > 0]\n",
      "print mb_gtr_files\n",
      "\n",
      "results_mat = np.empty(shape = (10, 4))"
     ],
     "language": "python",
     "metadata": {},
     "outputs": [
      {
       "output_type": "stream",
       "stream": "stdout",
       "text": [
        "['sim_codon_1.nexus', 'sim_codon_10.nexus', 'sim_codon_2.nexus', 'sim_codon_3.nexus', 'sim_codon_4.nexus', 'sim_codon_5.nexus', 'sim_codon_6.nexus', 'sim_codon_7.nexus', 'sim_codon_8.nexus', 'sim_codon_9.nexus']\n"
       ]
      }
     ],
     "prompt_number": 22
    },
    {
     "cell_type": "code",
     "collapsed": false,
     "input": [
      "for rep in range(len(mb_gtr_files)):\n",
      "    print 'processing '+mb_gtr_files[rep]\n",
      "    params_file = pd.read_csv('mb_gtrg/'+mb_gtr_files[rep]+'.run1.p', skiprows = 1, sep = '\\t')\n",
      "    trees_file = dp.TreeList.get_from_path('mb_gtrg/'+mb_gtr_files[rep]+'.run1.t', 'nexus')\n",
      "    emp_data = fasta_to_matrix(re.sub('nexus', 'fasta', mb_gtr_files[rep]))\n",
      "    nsites = len(emp_data[0])\n",
      "\n",
      "    trees_list = list()\n",
      "    for i in trees_file:\n",
      "        tree_text = re.sub('[[]&U[]]', '', i.as_string('newick'))\n",
      "        trees_list.append(tree_text)\n",
      "    \n",
      "    sampled_lines = np.random.uniform(size = params_file.shape[0]).argsort()[:100]\n",
      "    sampled_params = params_file.ix[sampled_lines, :]\n",
      "    sampled_params.index = [i for i in range(sampled_params.shape[0])]\n",
      "    sampled_trees = [trees_list[t] for t in sampled_lines]\n",
      "\n",
      "    mliks = list()\n",
      "    chis = list()\n",
      "\n",
      "    for i in range(sampled_params.shape[0]):\n",
      "        params_temp = get_params_gtrg(sampled_params, i)\n",
      "        sim_temp = sim_gtr(params_temp[0], params_temp[1], params_temp[2], sampled_trees[i], nsites)\n",
      "        mliks.append(multlik(sim_temp))\n",
      "        chis.append(chisq(sim_temp))\n",
      "    \n",
      "        if i % 10 == 0:\n",
      "            print i, mliks[i], chis[i]\n",
      "        \n",
      "    results_mat[rep, 0] =  sum(multlik(emp_data) > np.array(mliks)) /100.\n",
      "    results_mat[rep, 1] = sum(chisq(emp_data) > np.array(chis)) / 100.\n",
      "    \n",
      "    tree_file = re.sub('_codon', '', re.sub('nexus', 'tre', mb_gtr_files[rep]))\n",
      "    results_mat[rep, [2, 3]] = find_tree(tree_file, 'mb_gtrg/'+mb_gtr_files[rep]+'.run1.t')\n",
      "    \n",
      "    \n",
      "    print results_mat\n",
      "    print multlik(emp_data)"
     ],
     "language": "python",
     "metadata": {},
     "outputs": [
      {
       "output_type": "stream",
       "stream": "stdout",
       "text": [
        "processing sim_codon_1.nexus\n",
        "0"
       ]
      },
      {
       "output_type": "stream",
       "stream": "stdout",
       "text": [
        " -4994.07880042 9.05116192933\n",
        "10"
       ]
      },
      {
       "output_type": "stream",
       "stream": "stdout",
       "text": [
        " -5058.28747934 7.31288803351\n",
        "20"
       ]
      },
      {
       "output_type": "stream",
       "stream": "stdout",
       "text": [
        " -4835.3895091 13.1091844656\n",
        "30"
       ]
      },
      {
       "output_type": "stream",
       "stream": "stdout",
       "text": [
        " -5062.8663171 5.3175571776\n",
        "40"
       ]
      },
      {
       "output_type": "stream",
       "stream": "stdout",
       "text": [
        " -4900.85005781 7.20877643379\n",
        "50"
       ]
      },
      {
       "output_type": "stream",
       "stream": "stdout",
       "text": [
        " -4993.10973699 11.7765966515\n",
        "60"
       ]
      },
      {
       "output_type": "stream",
       "stream": "stdout",
       "text": [
        " -5019.91504543 13.8776981226\n",
        "70"
       ]
      },
      {
       "output_type": "stream",
       "stream": "stdout",
       "text": [
        " -4865.27069235 9.33349066117\n",
        "80"
       ]
      },
      {
       "output_type": "stream",
       "stream": "stdout",
       "text": [
        " -4873.13976586 3.99508678939\n",
        "90"
       ]
      },
      {
       "output_type": "stream",
       "stream": "stdout",
       "text": [
        " -5174.31200009 10.8415174152\n",
        "[[  0.00000000e+00   4.20000000e-01   1.00000000e+00   8.87891544e-02]\n",
        " [  0.00000000e+00   1.60000000e-01   2.59000000e+02   2.35000000e+02]\n",
        " [  0.00000000e+00   8.40000000e-01   2.44000000e+02   2.66000000e+02]\n",
        " [  0.00000000e+00   4.30000000e-01   2.31000000e+02   2.67000000e+02]\n",
        " [  0.00000000e+00   9.70000000e-01   2.53000000e+02   2.60000000e+02]\n",
        " [  0.00000000e+00   8.20000000e-01   2.50000000e+02   2.65000000e+02]\n",
        " [  0.00000000e+00   1.00000000e-02   2.33000000e+02   2.62000000e+02]\n",
        " [  0.00000000e+00   9.90000000e-01   2.53000000e+02   2.61000000e+02]\n",
        " [  0.00000000e+00   3.30000000e-01   2.38000000e+02   2.72000000e+02]\n",
        " [  0.00000000e+00   7.50000000e-01   2.39000000e+02   2.53000000e+02]]"
       ]
      },
      {
       "output_type": "stream",
       "stream": "stdout",
       "text": [
        "\n",
        "-5327.79067425\n",
        "processing sim_codon_10.nexus\n",
        "0"
       ]
      },
      {
       "output_type": "stream",
       "stream": "stdout",
       "text": [
        " -5185.02270324 7.64616963568\n",
        "10"
       ]
      },
      {
       "output_type": "stream",
       "stream": "stdout",
       "text": [
        " -5091.31543254 9.89386551388\n",
        "20"
       ]
      },
      {
       "output_type": "stream",
       "stream": "stdout",
       "text": [
        " -5259.53348606 6.10804000488\n",
        "30"
       ]
      },
      {
       "output_type": "stream",
       "stream": "stdout",
       "text": [
        " -5210.85850311 6.63651534122\n",
        "40"
       ]
      },
      {
       "output_type": "stream",
       "stream": "stdout",
       "text": [
        " -5240.5472058 7.8414851171\n",
        "50"
       ]
      },
      {
       "output_type": "stream",
       "stream": "stdout",
       "text": [
        " -5144.03350072 13.9405665494\n",
        "60"
       ]
      },
      {
       "output_type": "stream",
       "stream": "stdout",
       "text": [
        " -5132.87594086 7.07813385985\n",
        "70"
       ]
      },
      {
       "output_type": "stream",
       "stream": "stdout",
       "text": [
        " -5083.56854405 7.2202435387\n",
        "80"
       ]
      },
      {
       "output_type": "stream",
       "stream": "stdout",
       "text": [
        " -5043.42603738 7.19718292225\n",
        "90"
       ]
      },
      {
       "output_type": "stream",
       "stream": "stdout",
       "text": [
        " -5116.36101765 6.13807692769\n",
        "[[  0.00000000e+00   4.20000000e-01   1.00000000e+00   8.87891544e-02]\n",
        " [  0.00000000e+00   1.90000000e-01   1.00000000e+00   4.40223377e-02]\n",
        " [  0.00000000e+00   8.40000000e-01   2.44000000e+02   2.66000000e+02]\n",
        " [  0.00000000e+00   4.30000000e-01   2.31000000e+02   2.67000000e+02]\n",
        " [  0.00000000e+00   9.70000000e-01   2.53000000e+02   2.60000000e+02]\n",
        " [  0.00000000e+00   8.20000000e-01   2.50000000e+02   2.65000000e+02]\n",
        " [  0.00000000e+00   1.00000000e-02   2.33000000e+02   2.62000000e+02]\n",
        " [  0.00000000e+00   9.90000000e-01   2.53000000e+02   2.61000000e+02]\n",
        " [  0.00000000e+00   3.30000000e-01   2.38000000e+02   2.72000000e+02]\n",
        " [  0.00000000e+00   7.50000000e-01   2.39000000e+02   2.53000000e+02]]"
       ]
      },
      {
       "output_type": "stream",
       "stream": "stdout",
       "text": [
        "\n",
        "-5455.92635349\n",
        "processing sim_codon_2.nexus\n",
        "0"
       ]
      },
      {
       "output_type": "stream",
       "stream": "stdout",
       "text": [
        " -5377.67749897 15.5974375534\n",
        "10"
       ]
      },
      {
       "output_type": "stream",
       "stream": "stdout",
       "text": [
        " -5293.6624367 9.56212150694\n",
        "20"
       ]
      },
      {
       "output_type": "stream",
       "stream": "stdout",
       "text": [
        " -5405.71822627 8.43256407569\n",
        "30"
       ]
      },
      {
       "output_type": "stream",
       "stream": "stdout",
       "text": [
        " -5300.04227007 11.5509836741\n",
        "40"
       ]
      },
      {
       "output_type": "stream",
       "stream": "stdout",
       "text": [
        " -5193.40976834 5.63129306444\n",
        "50"
       ]
      },
      {
       "output_type": "stream",
       "stream": "stdout",
       "text": [
        " -5262.3842021 6.79088344769\n",
        "60"
       ]
      },
      {
       "output_type": "stream",
       "stream": "stdout",
       "text": [
        " -5024.04315287 10.4714877998\n",
        "70"
       ]
      },
      {
       "output_type": "stream",
       "stream": "stdout",
       "text": [
        " -5334.66794675 11.1423390275\n",
        "80"
       ]
      },
      {
       "output_type": "stream",
       "stream": "stdout",
       "text": [
        " -5355.11557712 4.49924358872\n",
        "90"
       ]
      },
      {
       "output_type": "stream",
       "stream": "stdout",
       "text": [
        " -5256.05156669 10.3099195551\n",
        "[[  0.00000000e+00   4.20000000e-01   1.00000000e+00   8.87891544e-02]\n",
        " [  0.00000000e+00   1.90000000e-01   1.00000000e+00   4.40223377e-02]\n",
        " [  0.00000000e+00   8.40000000e-01   1.00000000e+00  -5.70510894e-03]\n",
        " [  0.00000000e+00   4.30000000e-01   2.31000000e+02   2.67000000e+02]\n",
        " [  0.00000000e+00   9.70000000e-01   2.53000000e+02   2.60000000e+02]\n",
        " [  0.00000000e+00   8.20000000e-01   2.50000000e+02   2.65000000e+02]\n",
        " [  0.00000000e+00   1.00000000e-02   2.33000000e+02   2.62000000e+02]\n",
        " [  0.00000000e+00   9.90000000e-01   2.53000000e+02   2.61000000e+02]\n",
        " [  0.00000000e+00   3.30000000e-01   2.38000000e+02   2.72000000e+02]\n",
        " [  0.00000000e+00   7.50000000e-01   2.39000000e+02   2.53000000e+02]]"
       ]
      },
      {
       "output_type": "stream",
       "stream": "stdout",
       "text": [
        "\n",
        "-5751.12173268\n",
        "processing sim_codon_3.nexus\n",
        "0"
       ]
      },
      {
       "output_type": "stream",
       "stream": "stdout",
       "text": [
        " -5149.43426548 9.45202434347\n",
        "10"
       ]
      },
      {
       "output_type": "stream",
       "stream": "stdout",
       "text": [
        " -5323.77869974 21.4901479708\n",
        "20"
       ]
      },
      {
       "output_type": "stream",
       "stream": "stdout",
       "text": [
        " -5209.28869534 5.33510310244\n",
        "30"
       ]
      },
      {
       "output_type": "stream",
       "stream": "stdout",
       "text": [
        " -4759.21277968 5.86862927633\n",
        "40"
       ]
      },
      {
       "output_type": "stream",
       "stream": "stdout",
       "text": [
        " -5293.80415526 18.8349856217\n",
        "50"
       ]
      },
      {
       "output_type": "stream",
       "stream": "stdout",
       "text": [
        " -5367.79681435 10.7154261569\n",
        "60"
       ]
      },
      {
       "output_type": "stream",
       "stream": "stdout",
       "text": [
        " -5235.78643139 8.5277115893\n",
        "70"
       ]
      },
      {
       "output_type": "stream",
       "stream": "stdout",
       "text": [
        " -5125.81847648 7.9226555732\n",
        "80"
       ]
      },
      {
       "output_type": "stream",
       "stream": "stdout",
       "text": [
        " -5213.17178371 18.8062885526\n",
        "90"
       ]
      },
      {
       "output_type": "stream",
       "stream": "stdout",
       "text": [
        " -5120.12772384 6.21637853644\n",
        "[[  0.00000000e+00   4.20000000e-01   1.00000000e+00   8.87891544e-02]\n",
        " [  0.00000000e+00   1.90000000e-01   1.00000000e+00   4.40223377e-02]\n",
        " [  0.00000000e+00   8.40000000e-01   1.00000000e+00  -5.70510894e-03]\n",
        " [  0.00000000e+00   4.40000000e-01   1.00000000e+00   3.08515299e-02]\n",
        " [  0.00000000e+00   9.70000000e-01   2.53000000e+02   2.60000000e+02]\n",
        " [  0.00000000e+00   8.20000000e-01   2.50000000e+02   2.65000000e+02]\n",
        " [  0.00000000e+00   1.00000000e-02   2.33000000e+02   2.62000000e+02]\n",
        " [  0.00000000e+00   9.90000000e-01   2.53000000e+02   2.61000000e+02]\n",
        " [  0.00000000e+00   3.30000000e-01   2.38000000e+02   2.72000000e+02]\n",
        " [  0.00000000e+00   7.50000000e-01   2.39000000e+02   2.53000000e+02]]"
       ]
      },
      {
       "output_type": "stream",
       "stream": "stdout",
       "text": [
        "\n",
        "-5604.07726584\n",
        "processing sim_codon_4.nexus\n",
        "0"
       ]
      },
      {
       "output_type": "stream",
       "stream": "stdout",
       "text": [
        " -5164.67027023 13.4941805621\n",
        "10"
       ]
      },
      {
       "output_type": "stream",
       "stream": "stdout",
       "text": [
        " -5008.99659175 9.66684512363\n",
        "20"
       ]
      },
      {
       "output_type": "stream",
       "stream": "stdout",
       "text": [
        " -5078.92443998 16.2036726679\n",
        "30"
       ]
      },
      {
       "output_type": "stream",
       "stream": "stdout",
       "text": [
        " -5149.82703905 9.75300968589\n",
        "40"
       ]
      },
      {
       "output_type": "stream",
       "stream": "stdout",
       "text": [
        " -4863.48528184 4.74279234187\n",
        "50"
       ]
      },
      {
       "output_type": "stream",
       "stream": "stdout",
       "text": [
        " -5097.71640243 7.73447712562\n",
        "60"
       ]
      },
      {
       "output_type": "stream",
       "stream": "stdout",
       "text": [
        " -5212.44295976 12.8642121339\n",
        "70"
       ]
      },
      {
       "output_type": "stream",
       "stream": "stdout",
       "text": [
        " -5288.09703325 8.48859515105\n",
        "80"
       ]
      },
      {
       "output_type": "stream",
       "stream": "stdout",
       "text": [
        " -4849.97974624 5.91938889843\n",
        "90"
       ]
      },
      {
       "output_type": "stream",
       "stream": "stdout",
       "text": [
        " -5263.27640398 7.62233077817\n",
        "[[  0.00000000e+00   4.20000000e-01   1.00000000e+00   8.87891544e-02]\n",
        " [  0.00000000e+00   1.90000000e-01   1.00000000e+00   4.40223377e-02]\n",
        " [  0.00000000e+00   8.40000000e-01   1.00000000e+00  -5.70510894e-03]\n",
        " [  0.00000000e+00   4.40000000e-01   1.00000000e+00   3.08515299e-02]\n",
        " [  0.00000000e+00   9.60000000e-01   1.00000000e+00   9.28405971e-02]\n",
        " [  0.00000000e+00   8.20000000e-01   2.50000000e+02   2.65000000e+02]\n",
        " [  0.00000000e+00   1.00000000e-02   2.33000000e+02   2.62000000e+02]\n",
        " [  0.00000000e+00   9.90000000e-01   2.53000000e+02   2.61000000e+02]\n",
        " [  0.00000000e+00   3.30000000e-01   2.38000000e+02   2.72000000e+02]\n",
        " [  0.00000000e+00   7.50000000e-01   2.39000000e+02   2.53000000e+02]]"
       ]
      },
      {
       "output_type": "stream",
       "stream": "stdout",
       "text": [
        "\n",
        "-5407.35563632\n",
        "processing sim_codon_5.nexus\n",
        "0"
       ]
      },
      {
       "output_type": "stream",
       "stream": "stdout",
       "text": [
        " -5096.38331938 10.9559398867\n",
        "10"
       ]
      },
      {
       "output_type": "stream",
       "stream": "stdout",
       "text": [
        " -5086.06736878 10.9937287844\n",
        "20"
       ]
      },
      {
       "output_type": "stream",
       "stream": "stdout",
       "text": [
        " -5268.82602678 15.4998875643\n",
        "30"
       ]
      },
      {
       "output_type": "stream",
       "stream": "stdout",
       "text": [
        " -5119.37511568 10.5182130525\n",
        "40"
       ]
      },
      {
       "output_type": "stream",
       "stream": "stdout",
       "text": [
        " -5141.16698129 3.44849482774\n",
        "50"
       ]
      },
      {
       "output_type": "stream",
       "stream": "stdout",
       "text": [
        " -5068.15890565 8.40341007724\n",
        "60"
       ]
      },
      {
       "output_type": "stream",
       "stream": "stdout",
       "text": [
        " -5128.65687623 9.78209553399\n",
        "70"
       ]
      },
      {
       "output_type": "stream",
       "stream": "stdout",
       "text": [
        " -5197.91077578 12.13470838\n",
        "80"
       ]
      },
      {
       "output_type": "stream",
       "stream": "stdout",
       "text": [
        " -5104.19476656 9.55013224239\n",
        "90"
       ]
      },
      {
       "output_type": "stream",
       "stream": "stdout",
       "text": [
        " -5032.54262055 6.38503952983\n",
        "[[  0.00000000e+00   4.20000000e-01   1.00000000e+00   8.87891544e-02]\n",
        " [  0.00000000e+00   1.90000000e-01   1.00000000e+00   4.40223377e-02]\n",
        " [  0.00000000e+00   8.40000000e-01   1.00000000e+00  -5.70510894e-03]\n",
        " [  0.00000000e+00   4.40000000e-01   1.00000000e+00   3.08515299e-02]\n",
        " [  0.00000000e+00   9.60000000e-01   1.00000000e+00   9.28405971e-02]\n",
        " [  0.00000000e+00   9.00000000e-01   1.00000000e+00   2.91778765e-02]\n",
        " [  0.00000000e+00   1.00000000e-02   2.33000000e+02   2.62000000e+02]\n",
        " [  0.00000000e+00   9.90000000e-01   2.53000000e+02   2.61000000e+02]\n",
        " [  0.00000000e+00   3.30000000e-01   2.38000000e+02   2.72000000e+02]\n",
        " [  0.00000000e+00   7.50000000e-01   2.39000000e+02   2.53000000e+02]]"
       ]
      },
      {
       "output_type": "stream",
       "stream": "stdout",
       "text": [
        "\n",
        "-5540.63975245\n",
        "processing sim_codon_6.nexus\n",
        "0"
       ]
      },
      {
       "output_type": "stream",
       "stream": "stdout",
       "text": [
        " -5364.84315015 18.4110726925\n",
        "10"
       ]
      },
      {
       "output_type": "stream",
       "stream": "stdout",
       "text": [
        " -5085.62001051 6.00575764354\n",
        "20"
       ]
      },
      {
       "output_type": "stream",
       "stream": "stdout",
       "text": [
        " -5344.79211305 19.794189583\n",
        "30"
       ]
      },
      {
       "output_type": "stream",
       "stream": "stdout",
       "text": [
        " -5382.13590554 9.99246371561\n",
        "40"
       ]
      },
      {
       "output_type": "stream",
       "stream": "stdout",
       "text": [
        " -5095.50896419 9.98687517437\n",
        "50"
       ]
      },
      {
       "output_type": "stream",
       "stream": "stdout",
       "text": [
        " -5190.06915263 11.4288294587\n",
        "60"
       ]
      },
      {
       "output_type": "stream",
       "stream": "stdout",
       "text": [
        " -5176.20456397 4.53553172467\n",
        "70"
       ]
      },
      {
       "output_type": "stream",
       "stream": "stdout",
       "text": [
        " -5326.23291015 11.8072269497\n",
        "80"
       ]
      },
      {
       "output_type": "stream",
       "stream": "stdout",
       "text": [
        " -5337.89297509 9.95728962545\n",
        "90"
       ]
      },
      {
       "output_type": "stream",
       "stream": "stdout",
       "text": [
        " -5232.30364947 12.8292131051\n",
        "[[  0.00000000e+00   4.20000000e-01   1.00000000e+00   8.87891544e-02]\n",
        " [  0.00000000e+00   1.90000000e-01   1.00000000e+00   4.40223377e-02]\n",
        " [  0.00000000e+00   8.40000000e-01   1.00000000e+00  -5.70510894e-03]\n",
        " [  0.00000000e+00   4.40000000e-01   1.00000000e+00   3.08515299e-02]\n",
        " [  0.00000000e+00   9.60000000e-01   1.00000000e+00   9.28405971e-02]\n",
        " [  0.00000000e+00   9.00000000e-01   1.00000000e+00   2.91778765e-02]\n",
        " [  0.00000000e+00   1.00000000e-02   1.00000000e+00   1.09478484e-01]\n",
        " [  0.00000000e+00   9.90000000e-01   2.53000000e+02   2.61000000e+02]\n",
        " [  0.00000000e+00   3.30000000e-01   2.38000000e+02   2.72000000e+02]\n",
        " [  0.00000000e+00   7.50000000e-01   2.39000000e+02   2.53000000e+02]]"
       ]
      },
      {
       "output_type": "stream",
       "stream": "stdout",
       "text": [
        "\n",
        "-5644.35396482\n",
        "processing sim_codon_7.nexus\n",
        "0"
       ]
      },
      {
       "output_type": "stream",
       "stream": "stdout",
       "text": [
        " -5133.56514302 10.5858145863\n",
        "10"
       ]
      },
      {
       "output_type": "stream",
       "stream": "stdout",
       "text": [
        " -5247.27346432 7.83969766157\n",
        "20"
       ]
      },
      {
       "output_type": "stream",
       "stream": "stdout",
       "text": [
        " -4840.6680647 10.6263472775\n",
        "30"
       ]
      },
      {
       "output_type": "stream",
       "stream": "stdout",
       "text": [
        " -5169.98112128 10.3655377634\n",
        "40"
       ]
      },
      {
       "output_type": "stream",
       "stream": "stdout",
       "text": [
        " -4932.23996028 6.64268922577\n",
        "50"
       ]
      },
      {
       "output_type": "stream",
       "stream": "stdout",
       "text": [
        " -4978.85685234 8.03855429954\n",
        "60"
       ]
      },
      {
       "output_type": "stream",
       "stream": "stdout",
       "text": [
        " -5155.77331654 10.4884226441\n",
        "70"
       ]
      },
      {
       "output_type": "stream",
       "stream": "stdout",
       "text": [
        " -4915.93198551 12.2608429787\n",
        "80"
       ]
      },
      {
       "output_type": "stream",
       "stream": "stdout",
       "text": [
        " -5116.65703821 8.77836611676\n",
        "90"
       ]
      },
      {
       "output_type": "stream",
       "stream": "stdout",
       "text": [
        " -5000.49949333 6.28507466861\n",
        "[[  0.00000000e+00   4.20000000e-01   1.00000000e+00   8.87891544e-02]\n",
        " [  0.00000000e+00   1.90000000e-01   1.00000000e+00   4.40223377e-02]\n",
        " [  0.00000000e+00   8.40000000e-01   1.00000000e+00  -5.70510894e-03]\n",
        " [  0.00000000e+00   4.40000000e-01   1.00000000e+00   3.08515299e-02]\n",
        " [  0.00000000e+00   9.60000000e-01   1.00000000e+00   9.28405971e-02]\n",
        " [  0.00000000e+00   9.00000000e-01   1.00000000e+00   2.91778765e-02]\n",
        " [  0.00000000e+00   1.00000000e-02   1.00000000e+00   1.09478484e-01]\n",
        " [  0.00000000e+00   9.80000000e-01   1.00000000e+00   4.81996283e-02]\n",
        " [  0.00000000e+00   3.30000000e-01   2.38000000e+02   2.72000000e+02]\n",
        " [  0.00000000e+00   7.50000000e-01   2.39000000e+02   2.53000000e+02]]"
       ]
      },
      {
       "output_type": "stream",
       "stream": "stdout",
       "text": [
        "\n",
        "-5441.25236191\n",
        "processing sim_codon_8.nexus\n",
        "0"
       ]
      },
      {
       "output_type": "stream",
       "stream": "stdout",
       "text": [
        " -5275.16146597 24.6587910815\n",
        "10"
       ]
      },
      {
       "output_type": "stream",
       "stream": "stdout",
       "text": [
        " -5273.07145538 6.88005562634\n",
        "20"
       ]
      },
      {
       "output_type": "stream",
       "stream": "stdout",
       "text": [
        " -5367.40296474 8.32007671733\n",
        "30"
       ]
      },
      {
       "output_type": "stream",
       "stream": "stdout",
       "text": [
        " -5186.66048741 8.77423511194\n",
        "40"
       ]
      },
      {
       "output_type": "stream",
       "stream": "stdout",
       "text": [
        " -5125.72147809 13.8344790057\n",
        "50"
       ]
      },
      {
       "output_type": "stream",
       "stream": "stdout",
       "text": [
        " -5052.68550222 11.4952221303\n",
        "60"
       ]
      },
      {
       "output_type": "stream",
       "stream": "stdout",
       "text": [
        " -5195.17191927 16.8178756447\n",
        "70"
       ]
      },
      {
       "output_type": "stream",
       "stream": "stdout",
       "text": [
        " -5193.06331099 5.28481776637\n",
        "80"
       ]
      },
      {
       "output_type": "stream",
       "stream": "stdout",
       "text": [
        " -5103.29000335 8.03648206837\n",
        "90"
       ]
      },
      {
       "output_type": "stream",
       "stream": "stdout",
       "text": [
        " -5254.55137134 9.99911081098\n",
        "[[  0.00000000e+00   4.20000000e-01   1.00000000e+00   8.87891544e-02]\n",
        " [  0.00000000e+00   1.90000000e-01   1.00000000e+00   4.40223377e-02]\n",
        " [  0.00000000e+00   8.40000000e-01   1.00000000e+00  -5.70510894e-03]\n",
        " [  0.00000000e+00   4.40000000e-01   1.00000000e+00   3.08515299e-02]\n",
        " [  0.00000000e+00   9.60000000e-01   1.00000000e+00   9.28405971e-02]\n",
        " [  0.00000000e+00   9.00000000e-01   1.00000000e+00   2.91778765e-02]\n",
        " [  0.00000000e+00   1.00000000e-02   1.00000000e+00   1.09478484e-01]\n",
        " [  0.00000000e+00   9.80000000e-01   1.00000000e+00   4.81996283e-02]\n",
        " [  0.00000000e+00   3.80000000e-01   1.00000000e+00   5.34536517e-02]\n",
        " [  0.00000000e+00   7.50000000e-01   2.39000000e+02   2.53000000e+02]]"
       ]
      },
      {
       "output_type": "stream",
       "stream": "stdout",
       "text": [
        "\n",
        "-5556.49070964\n",
        "processing sim_codon_9.nexus\n",
        "0"
       ]
      },
      {
       "output_type": "stream",
       "stream": "stdout",
       "text": [
        " -4936.87147485 7.80964107575\n",
        "10"
       ]
      },
      {
       "output_type": "stream",
       "stream": "stdout",
       "text": [
        " -4834.74234401 6.34455510364\n",
        "20"
       ]
      },
      {
       "output_type": "stream",
       "stream": "stdout",
       "text": [
        " -4821.52149745 9.76660283651\n",
        "30"
       ]
      },
      {
       "output_type": "stream",
       "stream": "stdout",
       "text": [
        " -5099.58158591 9.15770034393\n",
        "40"
       ]
      },
      {
       "output_type": "stream",
       "stream": "stdout",
       "text": [
        " -4850.63382597 6.59486545137\n",
        "50"
       ]
      },
      {
       "output_type": "stream",
       "stream": "stdout",
       "text": [
        " -5005.80760291 13.3938053587\n",
        "60"
       ]
      },
      {
       "output_type": "stream",
       "stream": "stdout",
       "text": [
        " -4909.0818564 12.5688365096\n",
        "70"
       ]
      },
      {
       "output_type": "stream",
       "stream": "stdout",
       "text": [
        " -5194.02261151 13.9939191758\n",
        "80"
       ]
      },
      {
       "output_type": "stream",
       "stream": "stdout",
       "text": [
        " -4975.64966522 9.26830718568\n",
        "90"
       ]
      },
      {
       "output_type": "stream",
       "stream": "stdout",
       "text": [
        " -4909.39029595 7.08752810622\n",
        "[[ 0.          0.42        1.          0.08878915]\n",
        " [ 0.          0.19        1.          0.04402234]\n",
        " [ 0.          0.84        1.         -0.00570511]\n",
        " [ 0.          0.44        1.          0.03085153]\n",
        " [ 0.          0.96        1.          0.0928406 ]\n",
        " [ 0.          0.9         1.          0.02917788]\n",
        " [ 0.          0.01        1.          0.10947848]\n",
        " [ 0.          0.98        1.          0.04819963]\n",
        " [ 0.          0.38        1.          0.05345365]\n",
        " [ 0.          0.79        1.          0.07162305]]"
       ]
      },
      {
       "output_type": "stream",
       "stream": "stdout",
       "text": [
        "\n",
        "-5293.61227237\n"
       ]
      }
     ],
     "prompt_number": 27
    },
    {
     "cell_type": "code",
     "collapsed": false,
     "input": [
      "#fig, axs = plt.subplots(1, 2)\n",
      "#axs[0].hist(mliks)\n",
      "#axs[0].set_title('Unconstrained likelihood')\n",
      "#axs[1].hist(chis)\n",
      "#axs[1].set_title('$\\chi^2$')"
     ],
     "language": "python",
     "metadata": {},
     "outputs": [],
     "prompt_number": 1
    },
    {
     "cell_type": "code",
     "collapsed": false,
     "input": [
      "results_frame = pd.DataFrame(results_mat)\n",
      "results_frame.columns = ['mlik', 'chi2', 'tree_found', 'percent_TL']\n",
      "results_frame.head()\n",
      "results_frame.to_csv('sim_gtrg_results.csv')"
     ],
     "language": "python",
     "metadata": {},
     "outputs": [],
     "prompt_number": 28
    },
    {
     "cell_type": "code",
     "collapsed": false,
     "input": [],
     "language": "python",
     "metadata": {},
     "outputs": [],
     "prompt_number": 59
    },
    {
     "cell_type": "code",
     "collapsed": false,
     "input": [],
     "language": "python",
     "metadata": {},
     "outputs": [],
     "prompt_number": 60
    },
    {
     "cell_type": "code",
     "collapsed": false,
     "input": [],
     "language": "python",
     "metadata": {},
     "outputs": [],
     "prompt_number": 1
    },
    {
     "cell_type": "code",
     "collapsed": false,
     "input": [],
     "language": "python",
     "metadata": {},
     "outputs": [
      {
       "metadata": {},
       "output_type": "pyout",
       "prompt_number": 62,
       "text": [
        "<matplotlib.text.Text at 0x1432a1350>"
       ]
      },
      {
       "metadata": {},
       "output_type": "display_data",
       "png": "[encoded data removed]",
       "text": [
        "<matplotlib.figure.Figure at 0x1432c9550>"
       ]
      }
     ],
     "prompt_number": 62
    },
    {
     "cell_type": "code",
     "collapsed": false,
     "input": [],
     "language": "python",
     "metadata": {},
     "outputs": [
      {
       "output_type": "stream",
       "stream": "stdout",
       "text": [
        "0.0\n",
        "0.47\n",
        "-5604.07726584\n"
       ]
      }
     ],
     "prompt_number": 63
    },
    {
     "cell_type": "markdown",
     "metadata": {},
     "source": [
      "## !The multinomial likelihood appears to identify the codon model. The $\\chi^2$ does not. Now run PPS using codon model "
     ]
    },
    {
     "cell_type": "markdown",
     "metadata": {},
     "source": [
      "###To run simulations, ensure that the input tree has branch lengths multiplied by 3."
     ]
    },
    {
     "cell_type": "code",
     "collapsed": false,
     "input": [
      "params_file = pd.read_csv('mb_codon/sim_codon_5.nexus.run1.p', skiprows=1, sep = '\\t')\n",
      "sampled_lines = np.random.uniform(size = params_file.shape[0]).argsort()[:100]\n",
      "tree_file = dp.TreeList.get_from_path('mb_codon/sim_codon_5.nexus.run1.t', 'nexus')\n",
      "emp_dat = fasta_to_matrix('sim_codon_5.fasta')\n",
      "\n",
      "trees_list = list()\n",
      "\n",
      "for i in trees_file:\n",
      "#    for edge in i.inorder_edge_iter():\n",
      "#        print edge\n",
      "    tree_text = re.sub('[[]&U[]]', '', i.as_string('newick'))\n",
      "    trees_list.append(tree_text)\n",
      "    \n",
      "sampled_trees = [trees_list[t] for t in sampled_lines]\n",
      "\n",
      "sampled_lines = np.random.uniform(size = params_file.shape[0]).argsort()[:100]\n",
      "sampled_params = params_file.ix[sampled_lines, :]\n",
      "sampled_params.index = [i for i in range(sampled_params.shape[0])]\n"
     ],
     "language": "python",
     "metadata": {},
     "outputs": [],
     "prompt_number": 64
    },
    {
     "cell_type": "code",
     "collapsed": false,
     "input": [],
     "language": "python",
     "metadata": {},
     "outputs": [],
     "prompt_number": 64
    },
    {
     "cell_type": "code",
     "collapsed": false,
     "input": [
      "nsites = len(emp_dat[0])\n",
      "#tree = sampled_trees[3]\n"
     ],
     "language": "python",
     "metadata": {},
     "outputs": [],
     "prompt_number": 65
    },
    {
     "cell_type": "markdown",
     "metadata": {},
     "source": [
      "### fix trees before simulations"
     ]
    },
    {
     "cell_type": "code",
     "collapsed": false,
     "input": [
      "mliks = list()\n",
      "chis = list()\n",
      "\n",
      "for i in range(sampled_params.shape[0]):\n",
      "    params_temp = get_params_codons(sampled_params, i)\n",
      "    sim_temp = sim_codon(params_temp[0], params_temp[1], fix_tree(sampled_trees[i]), nsites)\n",
      "    mliks.append(multlik(sim_temp))\n",
      "    chis.append(chisq(sim_temp))\n",
      "    \n",
      "    if i % 10 == 0:\n",
      "        print i, mliks[i], chis[i]\n",
      "#        print len(sim_temp[0])"
     ],
     "language": "python",
     "metadata": {},
     "outputs": [
      {
       "output_type": "stream",
       "stream": "stdout",
       "text": [
        "0 -5793.61106022 9.82306068391\n",
        "10"
       ]
      },
      {
       "output_type": "stream",
       "stream": "stdout",
       "text": [
        " -5631.3564924 15.4427730216\n",
        "20"
       ]
      },
      {
       "output_type": "stream",
       "stream": "stdout",
       "text": [
        " -5653.65453153 13.0804973031\n",
        "30"
       ]
      },
      {
       "output_type": "stream",
       "stream": "stdout",
       "text": [
        " -5659.27608478 17.3160264359\n",
        "40"
       ]
      },
      {
       "output_type": "stream",
       "stream": "stdout",
       "text": [
        " -5657.84509129 12.2587846573\n",
        "50"
       ]
      },
      {
       "output_type": "stream",
       "stream": "stdout",
       "text": [
        " -5586.45175471 15.0959715583\n",
        "60"
       ]
      },
      {
       "output_type": "stream",
       "stream": "stdout",
       "text": [
        " -5469.11447395 18.5039976078\n",
        "70"
       ]
      },
      {
       "output_type": "stream",
       "stream": "stdout",
       "text": [
        " -5607.37757627 9.67246770322\n",
        "80"
       ]
      },
      {
       "output_type": "stream",
       "stream": "stdout",
       "text": [
        " -5619.95742773 12.8117989679\n",
        "90"
       ]
      },
      {
       "output_type": "stream",
       "stream": "stdout",
       "text": [
        " -5554.59460665 9.50441752122\n"
       ]
      }
     ],
     "prompt_number": 66
    },
    {
     "cell_type": "code",
     "collapsed": false,
     "input": [
      "fig, axs = plt.subplots(1, 2)\n",
      "axs[0].hist(mliks)\n",
      "axs[0].set_title('Unconstrained likelihood')\n",
      "axs[1].hist(chis)\n",
      "axs[1].set_title('$\\chi^2$')"
     ],
     "language": "python",
     "metadata": {},
     "outputs": [
      {
       "metadata": {},
       "output_type": "pyout",
       "prompt_number": 67,
       "text": [
        "<matplotlib.text.Text at 0x108537dd0>"
       ]
      },
      {
       "metadata": {},
       "output_type": "display_data",
       "png": "[encoded data removed]",
       "text": [
        "<matplotlib.figure.Figure at 0x126a60310>"
       ]
      }
     ],
     "prompt_number": 67
    },
    {
     "cell_type": "code",
     "collapsed": false,
     "input": [
      "print sum(multlik(emp_dat) > mliks) / 100.\n",
      "print sum(chisq(emp_dat) > chis) / 100."
     ],
     "language": "python",
     "metadata": {},
     "outputs": [
      {
       "output_type": "stream",
       "stream": "stdout",
       "text": [
        "0.69\n",
        "0.55\n"
       ]
      }
     ],
     "prompt_number": 68
    },
    {
     "cell_type": "code",
     "collapsed": false,
     "input": [
      "print multlik(emp_dat)\n",
      "print chisq(emp_dat)"
     ],
     "language": "python",
     "metadata": {},
     "outputs": [
      {
       "output_type": "stream",
       "stream": "stdout",
       "text": [
        "-5621.97370784\n",
        "9.42769092699\n"
       ]
      }
     ],
     "prompt_number": 53
    },
    {
     "cell_type": "code",
     "collapsed": false,
     "input": [
      "len(emp_dat[0])"
     ],
     "language": "python",
     "metadata": {},
     "outputs": [
      {
       "metadata": {},
       "output_type": "pyout",
       "prompt_number": 315,
       "text": [
        "990"
       ]
      }
     ],
     "prompt_number": 315
    },
    {
     "cell_type": "code",
     "collapsed": false,
     "input": [
      "#check base composition in emp and in simulations. "
     ],
     "language": "python",
     "metadata": {},
     "outputs": [],
     "prompt_number": 87
    },
    {
     "cell_type": "code",
     "collapsed": false,
     "input": [],
     "language": "python",
     "metadata": {},
     "outputs": [],
     "prompt_number": 87
    },
    {
     "cell_type": "markdown",
     "metadata": {},
     "source": [
      "### Functions to transform branch lengths"
     ]
    },
    {
     "cell_type": "code",
     "collapsed": false,
     "input": [
      "def var_sites(mat_dat):\n",
      "    return sum([len(set(''.join(mat_dat[:, i]))) > 1 for i in range(mat_dat.shape[1])]) / float(mat_dat.shape[1])\n",
      "\n",
      "def fix_tree(tree):\n",
      "    import dendropy\n",
      "    tr = dendropy.Tree.get(data = tree, schema = 'newick')\n",
      "    for edge in tr.postorder_edge_iter():\n",
      "        if not edge.length is None:\n",
      "            edge.length = edge.length * 3\n",
      "    return tr.as_string(schema = 'newick')"
     ],
     "language": "python",
     "metadata": {},
     "outputs": [],
     "prompt_number": 17
    },
    {
     "cell_type": "code",
     "collapsed": false,
     "input": [
      "tree_text = re.sub('[[]&U[]]|\\n| ', '', trees_file[5].as_string('newick'))\n",
      "tree = pyvolve.read_tree(tree = tree_text)"
     ],
     "language": "python",
     "metadata": {},
     "outputs": [],
     "prompt_number": 183
    },
    {
     "cell_type": "code",
     "collapsed": false,
     "input": [
      "freqs = np.array([1/61. for i in range(61)])\n",
      "model_cod = pyvolve.Model('GY', {'omega':[0.5, 1, 1.5], 'state_freqs':freqs})\n",
      "model_nuc = pyvolve.Model('nucleotide')\n",
      "\n",
      "partition_cod = pyvolve.Partition(models = model_cod, size = 90)\n",
      "evolver_cod = pyvolve.Evolver(partitions = partition_cod, tree = tree)\n",
      "\n",
      "evolver_cod()\n",
      "mat_dat_cod = dict_to_matrix(evolver_cod.get_sequences())\n",
      "print var_sites(mat_dat_cod), mat_dat_cod.shape\n",
      "\n",
      "##\n",
      "\n",
      "model_cod = pyvolve.Model('GY', {'omega':[0.5, 1, 2.5], 'state_freqs':freqs})\n",
      "model_nuc = pyvolve.Model('nucleotide')\n",
      "\n",
      "partition_cod = pyvolve.Partition(models = model_cod, size = 90)\n",
      "evolver_cod = pyvolve.Evolver(partitions = partition_cod, tree = tree)\n",
      "\n",
      "evolver_cod()\n",
      "mat_dat_cod = dict_to_matrix(evolver_cod.get_sequences())\n",
      "print var_sites(mat_dat_cod), mat_dat_cod.shape\n",
      "\n",
      "\n",
      "\n",
      "\n",
      "\n",
      "partition_nuc = pyvolve.Partition(models = model_nuc, size = 270)\n",
      "evolver_nuc = pyvolve.Evolver(partitions = partition_nuc, tree = tree)\n",
      "\n",
      "evolver_nuc()\n",
      "mat_dat_nuc = dict_to_matrix(evolver_nuc.get_sequences())\n",
      "print var_sites(mat_dat_nuc), mat_dat_nuc.shape\n",
      "\n"
     ],
     "language": "python",
     "metadata": {},
     "outputs": [
      {
       "output_type": "stream",
       "stream": "stdout",
       "text": [
        "0.425925925926 (10, 270)\n",
        "0.337037037037"
       ]
      },
      {
       "output_type": "stream",
       "stream": "stdout",
       "text": [
        " (10, 270)\n",
        "0.807407407407"
       ]
      },
      {
       "output_type": "stream",
       "stream": "stdout",
       "text": [
        " (10, 270)\n"
       ]
      }
     ],
     "prompt_number": 241
    },
    {
     "cell_type": "code",
     "collapsed": false,
     "input": [
      "tr = dp.Tree.get(data = tree_text, schema = 'newick')"
     ],
     "language": "python",
     "metadata": {},
     "outputs": [],
     "prompt_number": 169
    },
    {
     "cell_type": "code",
     "collapsed": false,
     "input": [
      "print tree_text\n",
      "print fix_tree(tree_text)"
     ],
     "language": "python",
     "metadata": {},
     "outputs": [
      {
       "output_type": "stream",
       "stream": "stdout",
       "text": [
        "(T7:0.09807504,(((T4:0.0770744,(T1:0.05919754,(T3:0.102737,T2:0.09599553):0.1574099):0.09760752):0.04610055,(T10:0.05589579,T9:0.096558):0.196891):0.08129592,(T5:0.04993832,T6:0.1361141):0.08776132):0.06545468,T8:0.0493236);\n",
        "(T7:0.19615008,(((T4:0.1541488,(T1:0.11839508,(T3:0.205474,T2:0.19199106):0.3148198):0.19521504):0.0922011,(T10:0.11179158,T9:0.193116):0.393782):0.16259184,(T5:0.09987664,T6:0.2722282):0.17552264):0.13090936,T8:0.0986472);\n",
        "\n"
       ]
      }
     ],
     "prompt_number": 189
    },
    {
     "cell_type": "code",
     "collapsed": false,
     "input": [],
     "language": "python",
     "metadata": {},
     "outputs": []
    }
   ],
   "metadata": {}
  }
 ]
}