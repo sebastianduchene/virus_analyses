{
 "metadata": {
  "name": "",
  "signature": "sha256:867736287ba4bf8c9a6b11f71713db78bf036bd1b2f65f8e34de773ba80bcc18"
 },
 "nbformat": 3,
 "nbformat_minor": 0,
 "worksheets": [
  {
   "cells": [
    {
     "cell_type": "code",
     "collapsed": false,
     "input": [
      "import pandas as pd\n",
      "import numpy as np\n",
      "import dendropy as dp\n",
      "import re\n",
      "import pyvolve\n",
      "execfile('sim_funs.py')\n",
      "import matplotlib.pyplot as plt\n",
      "import matplotlib.pylab as pylab\n",
      "%pylab inline\n",
      "pylab.rcParams['figure.figsize'] = 20, 5"
     ],
     "language": "python",
     "metadata": {},
     "outputs": [
      {
       "output_type": "stream",
       "stream": "stdout",
       "text": [
        "Populating the interactive namespace from numpy and matplotlib\n"
       ]
      }
     ],
     "prompt_number": 1
    },
    {
     "cell_type": "code",
     "collapsed": false,
     "input": [
      "params_file = pd.read_csv('mb_gtrg/sim_codon_1.nexus.run1.p', skiprows = 1, sep = '\\t')\n",
      "trees_file = dp.TreeList.get_from_path('mb_gtrg/sim_codon_1.nexus.run1.t', 'nexus')\n",
      "emp_data = fasta_to_matrix('mb_gtrg/sim_codon_1.fasta')\n",
      "nsites = len(emp_data[0])"
     ],
     "language": "python",
     "metadata": {},
     "outputs": [],
     "prompt_number": 18
    },
    {
     "cell_type": "code",
     "collapsed": false,
     "input": [
      "# Clean trees into list\n",
      "trees_list = list()\n",
      "for i in trees_file:\n",
      "#    print i.as_newick_string()\n",
      "    for edge in i.preorder_edge_iter():\n",
      "        if edge:\n",
      "            print edge\n",
      "        next\n",
      "        \n",
      "        edge.length = edge.length * 3\n",
      "#    print i.as_newick_string()\n",
      "#    tree_text = re.sub('[[]&U[]]', '', i.as_string('newick'))\n",
      "#    trees_list.append(tree_text)"
     ],
     "language": "python",
     "metadata": {},
     "outputs": [
      {
       "output_type": "stream",
       "stream": "stdout",
       "text": [
        "d4425737808\n"
       ]
      },
      {
       "ename": "TypeError",
       "evalue": "unsupported operand type(s) for *: 'NoneType' and 'int'",
       "output_type": "pyerr",
       "traceback": [
        "\u001b[0;31m---------------------------------------------------------------------------\u001b[0m\n\u001b[0;31mTypeError\u001b[0m                                 Traceback (most recent call last)",
        "\u001b[0;32m<ipython-input-28-ad1cdd14a9b0>\u001b[0m in \u001b[0;36m<module>\u001b[0;34m()\u001b[0m\n\u001b[1;32m      8\u001b[0m         \u001b[0mnext\u001b[0m\u001b[0;34m\u001b[0m\u001b[0m\n\u001b[1;32m      9\u001b[0m \u001b[0;34m\u001b[0m\u001b[0m\n\u001b[0;32m---> 10\u001b[0;31m         \u001b[0medge\u001b[0m\u001b[0;34m.\u001b[0m\u001b[0mlength\u001b[0m \u001b[0;34m=\u001b[0m \u001b[0medge\u001b[0m\u001b[0;34m.\u001b[0m\u001b[0mlength\u001b[0m \u001b[0;34m*\u001b[0m \u001b[0;36m3\u001b[0m\u001b[0;34m\u001b[0m\u001b[0m\n\u001b[0m\u001b[1;32m     11\u001b[0m \u001b[0;31m#    print i.as_newick_string()\u001b[0m\u001b[0;34m\u001b[0m\u001b[0;34m\u001b[0m\u001b[0m\n\u001b[1;32m     12\u001b[0m \u001b[0;31m#    tree_text = re.sub('[[]&U[]]', '', i.as_string('newick'))\u001b[0m\u001b[0;34m\u001b[0m\u001b[0;34m\u001b[0m\u001b[0m\n",
        "\u001b[0;31mTypeError\u001b[0m: unsupported operand type(s) for *: 'NoneType' and 'int'"
       ]
      }
     ],
     "prompt_number": 28
    },
    {
     "cell_type": "code",
     "collapsed": false,
     "input": [
      "for edge in trees_file[1].leaf_edge_iter()  dp.Tree.pos:\n",
      "    print edge.length\n",
      "#dir(trees_file[0])"
     ],
     "language": "python",
     "metadata": {},
     "outputs": [
      {
       "output_type": "stream",
       "stream": "stdout",
       "text": [
        "0.20695164\n",
        "0.13539624\n",
        "0.25548852\n",
        "0.06550833\n",
        "0.26117484\n",
        "0.24446973\n",
        "0.1600932\n",
        "0.11614593\n",
        "0.25239555\n",
        "0.29859951\n"
       ]
      }
     ],
     "prompt_number": 17
    },
    {
     "cell_type": "code",
     "collapsed": false,
     "input": [
      "sampled_lines = np.random.uniform(size = params_file.shape[0]).argsort()[:100]"
     ],
     "language": "python",
     "metadata": {},
     "outputs": [],
     "prompt_number": 204
    },
    {
     "cell_type": "code",
     "collapsed": false,
     "input": [
      "sampled_params = params_file.ix[sampled_lines, :]\n",
      "sampled_params.index = [i for i in range(sampled_params.shape[0])]\n",
      "sampled_trees = [trees_list[t] for t in sampled_lines]"
     ],
     "language": "python",
     "metadata": {},
     "outputs": [],
     "prompt_number": 205
    },
    {
     "cell_type": "code",
     "collapsed": false,
     "input": [
      "mliks = list()\n",
      "chis = list()\n",
      "\n",
      "for i in range(sampled_params.shape[0]):\n",
      "    params_temp = get_params_gtrg(sampled_params, i)\n",
      "    sim_temp = sim_gtr(params_temp[0], params_temp[1], params_temp[2], sampled_trees[i], nsites)\n",
      "    mliks.append(multlik(sim_temp))\n",
      "    chis.append(chisq(sim_temp))\n",
      "    \n",
      "    if i % 10 == 0:\n",
      "        print i, mliks[i], chis[i]"
     ],
     "language": "python",
     "metadata": {},
     "outputs": [
      {
       "output_type": "stream",
       "stream": "stdout",
       "text": [
        "0 -4879.61307959 10.3074142598\n",
        "10"
       ]
      },
      {
       "output_type": "stream",
       "stream": "stdout",
       "text": [
        " -4843.69051047 13.2083924044\n",
        "20"
       ]
      },
      {
       "output_type": "stream",
       "stream": "stdout",
       "text": [
        " -4816.16707444 11.0595243115\n",
        "30"
       ]
      },
      {
       "output_type": "stream",
       "stream": "stdout",
       "text": [
        " -4626.37517381 7.35026592515\n",
        "40"
       ]
      },
      {
       "output_type": "stream",
       "stream": "stdout",
       "text": [
        " -4817.43692513 8.58732878855\n",
        "50"
       ]
      },
      {
       "output_type": "stream",
       "stream": "stdout",
       "text": [
        " -4854.27809704 5.36235970296\n",
        "60"
       ]
      },
      {
       "output_type": "stream",
       "stream": "stdout",
       "text": [
        " -4669.81225198 17.8225583033\n",
        "70"
       ]
      },
      {
       "output_type": "stream",
       "stream": "stdout",
       "text": [
        " -4826.02563263 8.4037351964\n",
        "80"
       ]
      },
      {
       "output_type": "stream",
       "stream": "stdout",
       "text": [
        " -4931.02800296 14.9243562429\n",
        "90"
       ]
      },
      {
       "output_type": "stream",
       "stream": "stdout",
       "text": [
        " -4854.45273017 12.0136773835\n"
       ]
      }
     ],
     "prompt_number": 206
    },
    {
     "cell_type": "code",
     "collapsed": false,
     "input": [
      "fig, axs = plt.subplots(1, 2)\n",
      "axs[0].hist(mliks)\n",
      "axs[0].set_title('Unconstrained likelihood')\n",
      "axs[1].hist(chis)\n",
      "axs[1].set_title('$\\chi^2$')"
     ],
     "language": "python",
     "metadata": {},
     "outputs": [
      {
       "metadata": {},
       "output_type": "pyout",
       "prompt_number": 258,
       "text": [
        "<matplotlib.text.Text at 0x1444bf350>"
       ]
      },
      {
       "metadata": {},
       "output_type": "display_data",
       "png": "[encoded data removed]",
       "text": [
        "<matplotlib.figure.Figure at 0x144027d10>"
       ]
      }
     ],
     "prompt_number": 258
    },
    {
     "cell_type": "code",
     "collapsed": false,
     "input": [
      "print sum(multlik(emp_data) > np.array(mliks)) /100.\n",
      "print sum(chisq(emp_data) > np.array(chis)) / 100."
     ],
     "language": "python",
     "metadata": {},
     "outputs": [
      {
       "output_type": "stream",
       "stream": "stdout",
       "text": [
        "0.0\n",
        "0.39\n"
       ]
      }
     ],
     "prompt_number": 259
    },
    {
     "cell_type": "markdown",
     "metadata": {},
     "source": [
      "## !The multinomial likelihood appears to identify the codon model. The $\\chi^2$ does not. Now run PPS using codon model "
     ]
    },
    {
     "cell_type": "code",
     "collapsed": false,
     "input": [],
     "language": "python",
     "metadata": {},
     "outputs": [],
     "prompt_number": 277
    },
    {
     "cell_type": "code",
     "collapsed": false,
     "input": [
      "params_file = pd.read_csv('mb_codon/sim_codon_3.nexus.run1.p', skiprows=1, sep = '\\t')\n",
      "sampled_lines = np.random.uniform(size = params_file.shape[0]).argsort()[:100]\n",
      "tree_file = dp.TreeList.get_from_path('mb_codon/sim_codon_3.nexus.run1.t', 'nexus')\n",
      "emp_dat = fasta_to_matrix('mb_codon/sim_codon_3.fasta')\n",
      "\n",
      "trees_list = list()\n",
      "for i in trees_file:\n",
      "    tree_text = re.sub('[[]&U[]]', '', i.as_string('newick'))\n",
      "    trees_list.append(tree_text)\n",
      "    \n",
      "sampled_trees = [trees_list[t] for t in sampled_lines]\n",
      "\n",
      "sampled_lines = np.random.uniform(size = params_file.shape[0]).argsort()[:100]\n",
      "sampled_params = params_file.ix[sampled_lines, :]\n",
      "sampled_params.index = [i for i in range(sampled_params.shape[0])]\n"
     ],
     "language": "python",
     "metadata": {},
     "outputs": [],
     "prompt_number": 326
    },
    {
     "cell_type": "code",
     "collapsed": false,
     "input": [],
     "language": "python",
     "metadata": {},
     "outputs": [],
     "prompt_number": 326
    },
    {
     "cell_type": "code",
     "collapsed": false,
     "input": [
      "nsites = len(emp_dat[0])\n",
      "tree = sampled_trees[3]\n"
     ],
     "language": "python",
     "metadata": {},
     "outputs": [],
     "prompt_number": 327
    },
    {
     "cell_type": "code",
     "collapsed": false,
     "input": [
      "sim_codon"
     ],
     "language": "python",
     "metadata": {},
     "outputs": [
      {
       "metadata": {},
       "output_type": "pyout",
       "prompt_number": 328,
       "text": [
        "<function __main__.sim_codon>"
       ]
      }
     ],
     "prompt_number": 328
    },
    {
     "cell_type": "code",
     "collapsed": false,
     "input": [
      "mliks = list()\n",
      "chis = list()\n",
      "\n",
      "for i in range(sampled_params.shape[0]):\n",
      "    params_temp = get_params_codons(sampled_params, i)\n",
      "    sim_temp = sim_codon(params_temp[0], params_temp[1], sampled_trees[i], nsites)\n",
      "    mliks.append(multlik(sim_temp))\n",
      "    chis.append(chisq(sim_temp))\n",
      "    \n",
      "    if i % 10 == 0:\n",
      "        print i, mliks[i], chis[i]\n",
      "        print len(sim_temp[0])"
     ],
     "language": "python",
     "metadata": {},
     "outputs": [
      {
       "output_type": "stream",
       "stream": "stdout",
       "text": [
        "0 -10289.1386156 3.33512758468\n",
        "2970\n",
        "10"
       ]
      },
      {
       "output_type": "stream",
       "stream": "stdout",
       "text": [
        " -10302.7841702 5.64438190772\n",
        "2970\n",
        "20"
       ]
      },
      {
       "output_type": "stream",
       "stream": "stdout",
       "text": [
        " -10398.235512 6.49276840609\n",
        "2970\n",
        "30"
       ]
      },
      {
       "output_type": "stream",
       "stream": "stdout",
       "text": [
        " -9995.09300177 2.67181136515\n",
        "2970\n",
        "40"
       ]
      },
      {
       "output_type": "stream",
       "stream": "stdout",
       "text": [
        " -10338.1273302 3.41671283617\n",
        "2970\n",
        "50"
       ]
      },
      {
       "output_type": "stream",
       "stream": "stdout",
       "text": [
        " -10310.9486004 5.26643425689\n",
        "2970\n",
        "60"
       ]
      },
      {
       "output_type": "stream",
       "stream": "stdout",
       "text": [
        " -10570.9457719 1.96746038238\n",
        "2970\n",
        "70"
       ]
      },
      {
       "output_type": "stream",
       "stream": "stdout",
       "text": [
        " -10293.8970457 3.31754372292\n",
        "2970\n",
        "80"
       ]
      },
      {
       "output_type": "stream",
       "stream": "stdout",
       "text": [
        " -10309.8749057 3.163070577\n",
        "2970\n",
        "90"
       ]
      },
      {
       "output_type": "stream",
       "stream": "stdout",
       "text": [
        " -10511.1280471 4.49372730506\n",
        "2970\n"
       ]
      }
     ],
     "prompt_number": 329
    },
    {
     "cell_type": "code",
     "collapsed": false,
     "input": [
      "fig, axs = plt.subplots(1, 2)\n",
      "axs[0].hist(mliks)\n",
      "axs[0].set_title('Unconstrained likelihood')\n",
      "axs[1].hist(chis)\n",
      "axs[1].set_title('$\\chi^2$')"
     ],
     "language": "python",
     "metadata": {},
     "outputs": [
      {
       "metadata": {},
       "output_type": "pyout",
       "prompt_number": 330,
       "text": [
        "<matplotlib.text.Text at 0x12aae2150>"
       ]
      },
      {
       "metadata": {},
       "output_type": "display_data",
       "png": "[encoded data removed]",
       "text": [
        "<matplotlib.figure.Figure at 0x145f7c450>"
       ]
      }
     ],
     "prompt_number": 330
    },
    {
     "cell_type": "code",
     "collapsed": false,
     "input": [
      "print sum(multlik(emp_dat) > mliks) / 100.\n",
      "print sum(chisq(emp_dat) > chis) / 100."
     ],
     "language": "python",
     "metadata": {},
     "outputs": [
      {
       "output_type": "stream",
       "stream": "stdout",
       "text": [
        "1.0\n",
        "1.0\n"
       ]
      }
     ],
     "prompt_number": 331
    },
    {
     "cell_type": "code",
     "collapsed": false,
     "input": [
      "print multlik(emp_dat)\n",
      "print chisq(emp_dat)"
     ],
     "language": "python",
     "metadata": {},
     "outputs": [
      {
       "output_type": "stream",
       "stream": "stdout",
       "text": [
        "-5165.3283693\n",
        "24.701043027\n"
       ]
      }
     ],
     "prompt_number": 332
    },
    {
     "cell_type": "code",
     "collapsed": false,
     "input": [
      "len(emp_dat[0])"
     ],
     "language": "python",
     "metadata": {},
     "outputs": [
      {
       "metadata": {},
       "output_type": "pyout",
       "prompt_number": 315,
       "text": [
        "990"
       ]
      }
     ],
     "prompt_number": 315
    },
    {
     "cell_type": "code",
     "collapsed": false,
     "input": [
      "#check base composition in emp and in simulations. "
     ],
     "language": "python",
     "metadata": {},
     "outputs": []
    }
   ],
   "metadata": {}
  }
 ]
}