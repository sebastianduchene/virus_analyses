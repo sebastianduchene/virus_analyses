{
 "metadata": {
  "name": "",
  "signature": "sha256:1b4b299d10be79eb3d37ff32dcd8097d4b12d4b1af78e8d643235b86f65d2c13"
 },
 "nbformat": 3,
 "nbformat_minor": 0,
 "worksheets": [
  {
   "cells": [
    {
     "cell_type": "code",
     "collapsed": false,
     "input": [
      "import re, os"
     ],
     "language": "python",
     "metadata": {},
     "outputs": [],
     "prompt_number": 1
    },
    {
     "cell_type": "code",
     "collapsed": false,
     "input": [
      "nexus_files = [i for i in os.listdir('.') if len(re.findall('nexus$', i)) > 0]"
     ],
     "language": "python",
     "metadata": {},
     "outputs": [],
     "prompt_number": 2
    },
    {
     "cell_type": "code",
     "collapsed": false,
     "input": [
      "print nexus_files\n",
      "run_block = '''\n",
      "Begin Mrbayes;\n",
      "lset nucmodel=codon omegavar=M3 rates=gamma;\n",
      "mcmcp printfreq = 10 ngen = 5000000;\n",
      "mcmc;\n",
      "end;\n",
      "'''"
     ],
     "language": "python",
     "metadata": {},
     "outputs": [
      {
       "output_type": "stream",
       "stream": "stdout",
       "text": [
        "['sim_codon_1.nexus', 'sim_codon_10.nexus', 'sim_codon_2.nexus', 'sim_codon_3.nexus', 'sim_codon_4.nexus', 'sim_codon_5.nexus', 'sim_codon_6.nexus', 'sim_codon_7.nexus', 'sim_codon_8.nexus', 'sim_codon_9.nexus']\n"
       ]
      }
     ],
     "prompt_number": 3
    },
    {
     "cell_type": "code",
     "collapsed": false,
     "input": [
      "for f in nexus_files:\n",
      "    f_temp = open(f, 'r').readlines()\n",
      "    f_temp.append(run_block)\n",
      "    open(f, 'w').writelines(f_temp)"
     ],
     "language": "python",
     "metadata": {},
     "outputs": [],
     "prompt_number": 4
    },
    {
     "cell_type": "code",
     "collapsed": false,
     "input": [],
     "language": "python",
     "metadata": {},
     "outputs": []
    }
   ],
   "metadata": {}
  }
 ]
}