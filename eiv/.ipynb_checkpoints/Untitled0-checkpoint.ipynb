{
 "metadata": {
  "name": "",
  "signature": "sha256:6499bb9a74409aa8b43a7396943dd15c88f54f692b9f1d3333ddafd26406d806"
 },
 "nbformat": 3,
 "nbformat_minor": 0,
 "worksheets": [
  {
   "cells": [
    {
     "cell_type": "code",
     "collapsed": false,
     "input": [
      "import sys\n"
     ],
     "language": "python",
     "metadata": {},
     "outputs": [],
     "prompt_number": 1
    },
    {
     "cell_type": "code",
     "collapsed": false,
     "input": [
      "%cd ~/Dropbox/virTsTv/EIV/"
     ],
     "language": "python",
     "metadata": {},
     "outputs": [
      {
       "output_type": "stream",
       "stream": "stdout",
       "text": [
        "/Users/sebastianducheneAIr/Dropbox/virTsTv/EIV\n"
       ]
      }
     ],
     "prompt_number": 2
    },
    {
     "cell_type": "code",
     "collapsed": false,
     "input": [
      "%ls"
     ],
     "language": "python",
     "metadata": {},
     "outputs": [
      {
       "output_type": "stream",
       "stream": "stdout",
       "text": [
        "EIV.HA.Global-3.fasta     Untitled0.ipynb           models_hiv.txt\r\n",
        "EIV.HA.Intrahost-2.fasta  get.models.R              to_fasta.R\r\n",
        "EIV.HA.Outbreak.fasta     get.models.R~             to_fasta.R~\r\n"
       ]
      }
     ],
     "prompt_number": 3
    },
    {
     "cell_type": "code",
     "collapsed": false,
     "input": [
      "import pandas as pd"
     ],
     "language": "python",
     "metadata": {},
     "outputs": [],
     "prompt_number": 4
    },
    {
     "cell_type": "code",
     "collapsed": false,
     "input": [
      "dat  = pd.read_csv(\"models_hiv.txt\", sep = \" \", index_col = 0)"
     ],
     "language": "python",
     "metadata": {},
     "outputs": [],
     "prompt_number": 5
    },
    {
     "cell_type": "code",
     "collapsed": false,
     "input": [
      "dat.keys()\n"
     ],
     "language": "python",
     "metadata": {},
     "outputs": [
      {
       "metadata": {},
       "output_type": "pyout",
       "prompt_number": 6,
       "text": [
        "Index([u'model', u'df', u'logLik', u'AIC', u'BIC', u'logLik.1', u'I', u'k', u'shape', u'Q1', u'Q2', u'Q3', u'Q4', u'Q5', u'Q6', u'bf1', u'bf2', u'bf3', u'bf4', u'meanKaks', u'varKaks', u'minTime', u'maxTime', u'Unnamed: 24'], dtype=object)"
       ]
      }
     ],
     "prompt_number": 6
    },
    {
     "cell_type": "code",
     "collapsed": false,
     "input": [
      "dat['df']\n"
     ],
     "language": "python",
     "metadata": {},
     "outputs": [
      {
       "metadata": {},
       "output_type": "pyout",
       "prompt_number": 7,
       "text": [
        "file\n",
        "EIV.HA.Global-3.fasta      -5710.416253\n",
        "EIV.HA.Intrahost-2.fasta   -1578.386236\n",
        "EIV.HA.Outbreak.fasta      -1265.244216\n",
        "Name: df, dtype: float64"
       ]
      }
     ],
     "prompt_number": 7
    },
    {
     "cell_type": "code",
     "collapsed": false,
     "input": [
      "di = {'u':5, 'y' :[9, 9]}"
     ],
     "language": "python",
     "metadata": {},
     "outputs": [],
     "prompt_number": 8
    },
    {
     "cell_type": "code",
     "collapsed": false,
     "input": [
      "di.keys()\n"
     ],
     "language": "python",
     "metadata": {},
     "outputs": [
      {
       "metadata": {},
       "output_type": "pyout",
       "prompt_number": 9,
       "text": [
        "['y', 'u']"
       ]
      }
     ],
     "prompt_number": 9
    },
    {
     "cell_type": "code",
     "collapsed": false,
     "input": [
      "print(dat)"
     ],
     "language": "python",
     "metadata": {},
     "outputs": [
      {
       "output_type": "stream",
       "stream": "stdout",
       "text": [
        "<class 'pandas.core.frame.DataFrame'>\n",
        "Index: 3 entries, EIV.HA.Global-3.fasta to EIV.HA.Outbreak.fasta\n",
        "Data columns (total 24 columns):\n",
        "model          3  non-null values\n",
        "df             3  non-null values\n",
        "logLik         3  non-null values\n",
        "AIC            3  non-null values\n",
        "BIC            3  non-null values\n",
        "logLik.1       3  non-null values\n",
        "I              3  non-null values\n",
        "k              3  non-null values\n",
        "shape          3  non-null values\n",
        "Q1             3  non-null values\n",
        "Q2             3  non-null values\n",
        "Q3             3  non-null values\n",
        "Q4             3  non-null values\n",
        "Q5             3  non-null values\n",
        "Q6             3  non-null values\n",
        "bf1            2  non-null values\n",
        "bf2            0  non-null values\n",
        "bf3            2  non-null values\n",
        "bf4            2  non-null values\n",
        "meanKaks       0  non-null values\n",
        "varKaks        0  non-null values\n",
        "minTime        0  non-null values\n",
        "maxTime        0  non-null values\n",
        "Unnamed: 24    0  non-null values\n",
        "dtypes: float64(17), int64(5), object(2)\n"
       ]
      }
     ],
     "prompt_number": 12
    },
    {
     "cell_type": "code",
     "collapsed": false,
     "input": [
      "dat[['Q1', 'Q2', 'Q3', 'Q4']]"
     ],
     "language": "python",
     "metadata": {},
     "outputs": [
      {
       "html": [
        "<div style=\"max-height:1000px;max-width:1500px;overflow:auto;\">\n",
        "<table border=\"1\" class=\"dataframe\">\n",
        "  <thead>\n",
        "    <tr style=\"text-align: right;\">\n",
        "      <th></th>\n",
        "      <th>Q1</th>\n",
        "      <th>Q2</th>\n",
        "      <th>Q3</th>\n",
        "      <th>Q4</th>\n",
        "    </tr>\n",
        "    <tr>\n",
        "      <th>file</th>\n",
        "      <th></th>\n",
        "      <th></th>\n",
        "      <th></th>\n",
        "      <th></th>\n",
        "    </tr>\n",
        "  </thead>\n",
        "  <tbody>\n",
        "    <tr>\n",
        "      <th>EIV.HA.Global-3.fasta</th>\n",
        "      <td> 14.358858</td>\n",
        "      <td> 1</td>\n",
        "      <td> 0.364003</td>\n",
        "      <td> 0.187909</td>\n",
        "    </tr>\n",
        "    <tr>\n",
        "      <th>EIV.HA.Intrahost-2.fasta</th>\n",
        "      <td>  8.612945</td>\n",
        "      <td> 1</td>\n",
        "      <td> 0.353553</td>\n",
        "      <td> 0.203333</td>\n",
        "    </tr>\n",
        "    <tr>\n",
        "      <th>EIV.HA.Outbreak.fasta</th>\n",
        "      <td>  8.127785</td>\n",
        "      <td> 1</td>\n",
        "      <td> 0.358220</td>\n",
        "      <td> 0.201543</td>\n",
        "    </tr>\n",
        "  </tbody>\n",
        "</table>\n",
        "</div>"
       ],
       "metadata": {},
       "output_type": "pyout",
       "prompt_number": 24,
       "text": [
        "                                 Q1  Q2        Q3        Q4\n",
        "file                                                       \n",
        "EIV.HA.Global-3.fasta     14.358858   1  0.364003  0.187909\n",
        "EIV.HA.Intrahost-2.fasta   8.612945   1  0.353553  0.203333\n",
        "EIV.HA.Outbreak.fasta      8.127785   1  0.358220  0.201543"
       ]
      }
     ],
     "prompt_number": 24
    },
    {
     "cell_type": "code",
     "collapsed": false,
     "input": [],
     "language": "python",
     "metadata": {},
     "outputs": [
      {
       "output_type": "stream",
       "stream": "stdout",
       "text": [
        "<class 'pandas.core.frame.DataFrame'>\n",
        "Index: 3 entries, EIV.HA.Global-3.fasta to EIV.HA.Outbreak.fasta\n",
        "Data columns (total 24 columns):\n",
        "model          3  non-null values\n",
        "df             3  non-null values\n",
        "logLik         3  non-null values\n",
        "AIC            3  non-null values\n",
        "BIC            3  non-null values\n",
        "logLik.1       3  non-null values\n",
        "I              3  non-null values\n",
        "k              3  non-null values\n",
        "shape          3  non-null values\n",
        "Q1             3  non-null values\n",
        "Q2             3  non-null values\n",
        "Q3             3  non-null values\n",
        "Q4             3  non-null values\n",
        "Q5             3  non-null values\n",
        "Q6             3  non-null values\n",
        "bf1            2  non-null values\n",
        "bf2            0  non-null values\n",
        "bf3            2  non-null values\n",
        "bf4            2  non-null values\n",
        "meanKaks       0  non-null values\n",
        "varKaks        0  non-null values\n",
        "minTime        0  non-null values\n",
        "maxTime        0  non-null values\n",
        "Unnamed: 24    0  non-null values\n",
        "dtypes: float64(17), int64(5), object(2)\n"
       ]
      }
     ],
     "prompt_number": 16
    },
    {
     "cell_type": "code",
     "collapsed": false,
     "input": [
      "dat['Q1'].plot(kind = \"bar\")"
     ],
     "language": "python",
     "metadata": {},
     "outputs": [
      {
       "metadata": {},
       "output_type": "pyout",
       "prompt_number": 56,
       "text": [
        "<matplotlib.axes.AxesSubplot at 0x10c663f50>"
       ]
      },
      {
       "metadata": {},
       "output_type": "display_data",
       "png": "[encoded data removed]",
       "text": [
        "<matplotlib.figure.Figure at 0x10c675c10>"
       ]
      }
     ],
     "prompt_number": 56
    },
    {
     "cell_type": "code",
     "collapsed": false,
     "input": [
      "dat['Q1'] / dat['Q2']"
     ],
     "language": "python",
     "metadata": {},
     "outputs": [
      {
       "metadata": {},
       "output_type": "pyout",
       "prompt_number": 57,
       "text": [
        "file\n",
        "EIV.HA.Global-3.fasta       14.358858\n",
        "EIV.HA.Intrahost-2.fasta     8.612945\n",
        "EIV.HA.Outbreak.fasta        8.127785\n",
        "dtype: float64"
       ]
      }
     ],
     "prompt_number": 57
    },
    {
     "cell_type": "code",
     "collapsed": false,
     "input": [
      "di"
     ],
     "language": "python",
     "metadata": {},
     "outputs": [
      {
       "metadata": {},
       "output_type": "pyout",
       "prompt_number": 28,
       "text": [
        "{'u': 5, 'y': [9, 9]}"
       ]
      }
     ],
     "prompt_number": 28
    },
    {
     "cell_type": "code",
     "collapsed": false,
     "input": [
      "dir(di)\n"
     ],
     "language": "python",
     "metadata": {},
     "outputs": [
      {
       "metadata": {},
       "output_type": "pyout",
       "prompt_number": 35,
       "text": [
        "['__class__',\n",
        " '__cmp__',\n",
        " '__contains__',\n",
        " '__delattr__',\n",
        " '__delitem__',\n",
        " '__doc__',\n",
        " '__eq__',\n",
        " '__format__',\n",
        " '__ge__',\n",
        " '__getattribute__',\n",
        " '__getitem__',\n",
        " '__gt__',\n",
        " '__hash__',\n",
        " '__init__',\n",
        " '__iter__',\n",
        " '__le__',\n",
        " '__len__',\n",
        " '__lt__',\n",
        " '__ne__',\n",
        " '__new__',\n",
        " '__reduce__',\n",
        " '__reduce_ex__',\n",
        " '__repr__',\n",
        " '__setattr__',\n",
        " '__setitem__',\n",
        " '__sizeof__',\n",
        " '__str__',\n",
        " '__subclasshook__',\n",
        " 'clear',\n",
        " 'copy',\n",
        " 'fromkeys',\n",
        " 'get',\n",
        " 'has_key',\n",
        " 'items',\n",
        " 'iteritems',\n",
        " 'iterkeys',\n",
        " 'itervalues',\n",
        " 'keys',\n",
        " 'pop',\n",
        " 'popitem',\n",
        " 'setdefault',\n",
        " 'update',\n",
        " 'values',\n",
        " 'viewitems',\n",
        " 'viewkeys',\n",
        " 'viewvalues']"
       ]
      }
     ],
     "prompt_number": 35
    },
    {
     "cell_type": "code",
     "collapsed": false,
     "input": [
      "di.values()\n"
     ],
     "language": "python",
     "metadata": {},
     "outputs": [
      {
       "metadata": {},
       "output_type": "pyout",
       "prompt_number": 36,
       "text": [
        "[[9, 9], 5]"
       ]
      }
     ],
     "prompt_number": 36
    },
    {
     "cell_type": "code",
     "collapsed": false,
     "input": [
      "di"
     ],
     "language": "python",
     "metadata": {},
     "outputs": [
      {
       "metadata": {},
       "output_type": "pyout",
       "prompt_number": 37,
       "text": [
        "{'u': 5, 'y': [9, 9]}"
       ]
      }
     ],
     "prompt_number": 37
    },
    {
     "cell_type": "code",
     "collapsed": false,
     "input": [
      "dat.keys()"
     ],
     "language": "python",
     "metadata": {},
     "outputs": [
      {
       "metadata": {},
       "output_type": "pyout",
       "prompt_number": 46,
       "text": [
        "Index([u'model', u'df', u'logLik', u'AIC', u'BIC', u'logLik.1', u'I', u'k', u'shape', u'Q1', u'Q2', u'Q3', u'Q4', u'Q5', u'Q6', u'bf1', u'bf2', u'bf3', u'bf4', u'meanKaks', u'varKaks', u'minTime', u'maxTime', u'Unnamed: 24'], dtype=object)"
       ]
      }
     ],
     "prompt_number": 46
    },
    {
     "cell_type": "code",
     "collapsed": false,
     "input": [
      "dat['meanKaks']"
     ],
     "language": "python",
     "metadata": {},
     "outputs": [
      {
       "metadata": {},
       "output_type": "pyout",
       "prompt_number": 51,
       "text": [
        "file\n",
        "EIV.HA.Global-3.fasta      NaN\n",
        "EIV.HA.Intrahost-2.fasta   NaN\n",
        "EIV.HA.Outbreak.fasta      NaN\n",
        "Name: meanKaks, dtype: float64"
       ]
      }
     ],
     "prompt_number": 51
    },
    {
     "cell_type": "code",
     "collapsed": false,
     "input": [],
     "language": "python",
     "metadata": {},
     "outputs": []
    }
   ],
   "metadata": {}
  }
 ]
}